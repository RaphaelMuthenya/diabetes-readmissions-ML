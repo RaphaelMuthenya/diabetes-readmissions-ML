{
 "cells": [
  {
   "cell_type": "markdown",
   "metadata": {},
   "source": [
    "## Predicting Early Readmission in Diabetic Patients"
   ]
  },
  {
   "cell_type": "markdown",
   "metadata": {},
   "source": [
    "### Project Overview\n",
    "This project analyzes ten years (1999–2008) of clinical care data from 130 US hospitals and integrated delivery networks. The dataset focuses on diabetic patients who received inpatient care—including lab work, medications, and short hospital stays (up to 14 days). The goal is to predict whether a patient will be readmitted within 30 days of discharge.\n",
    "\n",
    "#### Why This Matters\n",
    "Think of it like this: If someone with diabetes goes to the hospital and is sent home too early or without the right care, they might get worse and have to come back. That’s bad for their health and expensive for everyone involved.\n",
    "\n",
    "This research helps us figure out how to prevent that from happening in the first place.\n",
    "\n",
    "Even though we know how to improve outcomes for diabetic patients, many still don’t receive proper care during their hospital stay. This project aims to highlight patterns in the data that can be used to flag high-risk patients before discharge—so hospitals can intervene early and reduce unnecessary readmissions.\n",
    "\n"
   ]
  },
  {
   "cell_type": "markdown",
   "metadata": {},
   "source": [
    "### Objectives\n",
    "1. Explore and clean real-world hospital data\n",
    "\n",
    "2. Identify key features influencing early readmission\n",
    "\n",
    "3. Train and evaluate machine learning models to predict readmission risk\n",
    "\n",
    "4. Provide insights to help improve diabetic patient care and hospital efficiency\n",
    "\n"
   ]
  },
  {
   "cell_type": "markdown",
   "metadata": {},
   "source": [
    "### Dataset\n",
    "Source: UCI Machine Learning Repository - Diabetes 130-US hospitals dataset\n",
    "\n",
    "Size: 100,000+ patient records\n",
    "\n",
    "Features include demographics, lab tests, medications, diagnosis codes, length of stay, and discharge outcomes\n",
    "\n",
    "The final model can help hospitals:\n",
    "\n",
    "Identify patients at risk of early readmission\n",
    "\n",
    "Improve discharge planning and follow-up care\n",
    "\n",
    "Reduce healthcare costs and improve patient outcomes\n",
    "\n"
   ]
  },
  {
   "cell_type": "code",
   "execution_count": 1,
   "metadata": {},
   "outputs": [],
   "source": [
    "import pandas as pd\n",
    "import numpy as np\n",
    "import matplotlib.pyplot as plt\n",
    "import seaborn as sns\n",
    "\n",
    "# Display settings\n",
    "pd.set_option('display.max_columns', None)\n",
    "sns.set(style='whitegrid')"
   ]
  },
  {
   "cell_type": "code",
   "execution_count": 2,
   "metadata": {},
   "outputs": [
    {
     "data": {
      "text/plain": [
       "(101766, 50)"
      ]
     },
     "execution_count": 2,
     "metadata": {},
     "output_type": "execute_result"
    }
   ],
   "source": [
    "diabetes = pd.read_csv('diabetic_data.csv')\n",
    "diabetes.shape"
   ]
  },
  {
   "cell_type": "markdown",
   "metadata": {},
   "source": [
    "Let us check out the state of our dataset."
   ]
  },
  {
   "cell_type": "code",
   "execution_count": 3,
   "metadata": {},
   "outputs": [
    {
     "data": {
      "application/vnd.microsoft.datawrangler.viewer.v0+json": {
       "columns": [
        {
         "name": "index",
         "rawType": "int64",
         "type": "integer"
        },
        {
         "name": "encounter_id",
         "rawType": "int64",
         "type": "integer"
        },
        {
         "name": "patient_nbr",
         "rawType": "int64",
         "type": "integer"
        },
        {
         "name": "race",
         "rawType": "object",
         "type": "string"
        },
        {
         "name": "gender",
         "rawType": "object",
         "type": "string"
        },
        {
         "name": "age",
         "rawType": "object",
         "type": "string"
        },
        {
         "name": "weight",
         "rawType": "object",
         "type": "string"
        },
        {
         "name": "admission_type_id",
         "rawType": "int64",
         "type": "integer"
        },
        {
         "name": "discharge_disposition_id",
         "rawType": "int64",
         "type": "integer"
        },
        {
         "name": "admission_source_id",
         "rawType": "int64",
         "type": "integer"
        },
        {
         "name": "time_in_hospital",
         "rawType": "int64",
         "type": "integer"
        },
        {
         "name": "payer_code",
         "rawType": "object",
         "type": "string"
        },
        {
         "name": "medical_specialty",
         "rawType": "object",
         "type": "string"
        },
        {
         "name": "num_lab_procedures",
         "rawType": "int64",
         "type": "integer"
        },
        {
         "name": "num_procedures",
         "rawType": "int64",
         "type": "integer"
        },
        {
         "name": "num_medications",
         "rawType": "int64",
         "type": "integer"
        },
        {
         "name": "number_outpatient",
         "rawType": "int64",
         "type": "integer"
        },
        {
         "name": "number_emergency",
         "rawType": "int64",
         "type": "integer"
        },
        {
         "name": "number_inpatient",
         "rawType": "int64",
         "type": "integer"
        },
        {
         "name": "diag_1",
         "rawType": "object",
         "type": "string"
        },
        {
         "name": "diag_2",
         "rawType": "object",
         "type": "string"
        },
        {
         "name": "diag_3",
         "rawType": "object",
         "type": "string"
        },
        {
         "name": "number_diagnoses",
         "rawType": "int64",
         "type": "integer"
        },
        {
         "name": "max_glu_serum",
         "rawType": "object",
         "type": "unknown"
        },
        {
         "name": "A1Cresult",
         "rawType": "object",
         "type": "unknown"
        },
        {
         "name": "metformin",
         "rawType": "object",
         "type": "string"
        },
        {
         "name": "repaglinide",
         "rawType": "object",
         "type": "string"
        },
        {
         "name": "nateglinide",
         "rawType": "object",
         "type": "string"
        },
        {
         "name": "chlorpropamide",
         "rawType": "object",
         "type": "string"
        },
        {
         "name": "glimepiride",
         "rawType": "object",
         "type": "string"
        },
        {
         "name": "acetohexamide",
         "rawType": "object",
         "type": "string"
        },
        {
         "name": "glipizide",
         "rawType": "object",
         "type": "string"
        },
        {
         "name": "glyburide",
         "rawType": "object",
         "type": "string"
        },
        {
         "name": "tolbutamide",
         "rawType": "object",
         "type": "string"
        },
        {
         "name": "pioglitazone",
         "rawType": "object",
         "type": "string"
        },
        {
         "name": "rosiglitazone",
         "rawType": "object",
         "type": "string"
        },
        {
         "name": "acarbose",
         "rawType": "object",
         "type": "string"
        },
        {
         "name": "miglitol",
         "rawType": "object",
         "type": "string"
        },
        {
         "name": "troglitazone",
         "rawType": "object",
         "type": "string"
        },
        {
         "name": "tolazamide",
         "rawType": "object",
         "type": "string"
        },
        {
         "name": "examide",
         "rawType": "object",
         "type": "string"
        },
        {
         "name": "citoglipton",
         "rawType": "object",
         "type": "string"
        },
        {
         "name": "insulin",
         "rawType": "object",
         "type": "string"
        },
        {
         "name": "glyburide-metformin",
         "rawType": "object",
         "type": "string"
        },
        {
         "name": "glipizide-metformin",
         "rawType": "object",
         "type": "string"
        },
        {
         "name": "glimepiride-pioglitazone",
         "rawType": "object",
         "type": "string"
        },
        {
         "name": "metformin-rosiglitazone",
         "rawType": "object",
         "type": "string"
        },
        {
         "name": "metformin-pioglitazone",
         "rawType": "object",
         "type": "string"
        },
        {
         "name": "change",
         "rawType": "object",
         "type": "string"
        },
        {
         "name": "diabetesMed",
         "rawType": "object",
         "type": "string"
        },
        {
         "name": "readmitted",
         "rawType": "object",
         "type": "string"
        }
       ],
       "ref": "6f09210c-3945-4369-aa07-c1b728a3df8a",
       "rows": [
        [
         "0",
         "2278392",
         "8222157",
         "Caucasian",
         "Female",
         "[0-10)",
         "?",
         "6",
         "25",
         "1",
         "1",
         "?",
         "Pediatrics-Endocrinology",
         "41",
         "0",
         "1",
         "0",
         "0",
         "0",
         "250.83",
         "?",
         "?",
         "1",
         null,
         null,
         "No",
         "No",
         "No",
         "No",
         "No",
         "No",
         "No",
         "No",
         "No",
         "No",
         "No",
         "No",
         "No",
         "No",
         "No",
         "No",
         "No",
         "No",
         "No",
         "No",
         "No",
         "No",
         "No",
         "No",
         "No",
         "NO"
        ],
        [
         "1",
         "149190",
         "55629189",
         "Caucasian",
         "Female",
         "[10-20)",
         "?",
         "1",
         "1",
         "7",
         "3",
         "?",
         "?",
         "59",
         "0",
         "18",
         "0",
         "0",
         "0",
         "276",
         "250.01",
         "255",
         "9",
         null,
         null,
         "No",
         "No",
         "No",
         "No",
         "No",
         "No",
         "No",
         "No",
         "No",
         "No",
         "No",
         "No",
         "No",
         "No",
         "No",
         "No",
         "No",
         "Up",
         "No",
         "No",
         "No",
         "No",
         "No",
         "Ch",
         "Yes",
         ">30"
        ],
        [
         "2",
         "64410",
         "86047875",
         "AfricanAmerican",
         "Female",
         "[20-30)",
         "?",
         "1",
         "1",
         "7",
         "2",
         "?",
         "?",
         "11",
         "5",
         "13",
         "2",
         "0",
         "1",
         "648",
         "250",
         "V27",
         "6",
         null,
         null,
         "No",
         "No",
         "No",
         "No",
         "No",
         "No",
         "Steady",
         "No",
         "No",
         "No",
         "No",
         "No",
         "No",
         "No",
         "No",
         "No",
         "No",
         "No",
         "No",
         "No",
         "No",
         "No",
         "No",
         "No",
         "Yes",
         "NO"
        ],
        [
         "3",
         "500364",
         "82442376",
         "Caucasian",
         "Male",
         "[30-40)",
         "?",
         "1",
         "1",
         "7",
         "2",
         "?",
         "?",
         "44",
         "1",
         "16",
         "0",
         "0",
         "0",
         "8",
         "250.43",
         "403",
         "7",
         null,
         null,
         "No",
         "No",
         "No",
         "No",
         "No",
         "No",
         "No",
         "No",
         "No",
         "No",
         "No",
         "No",
         "No",
         "No",
         "No",
         "No",
         "No",
         "Up",
         "No",
         "No",
         "No",
         "No",
         "No",
         "Ch",
         "Yes",
         "NO"
        ],
        [
         "4",
         "16680",
         "42519267",
         "Caucasian",
         "Male",
         "[40-50)",
         "?",
         "1",
         "1",
         "7",
         "1",
         "?",
         "?",
         "51",
         "0",
         "8",
         "0",
         "0",
         "0",
         "197",
         "157",
         "250",
         "5",
         null,
         null,
         "No",
         "No",
         "No",
         "No",
         "No",
         "No",
         "Steady",
         "No",
         "No",
         "No",
         "No",
         "No",
         "No",
         "No",
         "No",
         "No",
         "No",
         "Steady",
         "No",
         "No",
         "No",
         "No",
         "No",
         "Ch",
         "Yes",
         "NO"
        ]
       ],
       "shape": {
        "columns": 50,
        "rows": 5
       }
      },
      "text/html": [
       "<div>\n",
       "<style scoped>\n",
       "    .dataframe tbody tr th:only-of-type {\n",
       "        vertical-align: middle;\n",
       "    }\n",
       "\n",
       "    .dataframe tbody tr th {\n",
       "        vertical-align: top;\n",
       "    }\n",
       "\n",
       "    .dataframe thead th {\n",
       "        text-align: right;\n",
       "    }\n",
       "</style>\n",
       "<table border=\"1\" class=\"dataframe\">\n",
       "  <thead>\n",
       "    <tr style=\"text-align: right;\">\n",
       "      <th></th>\n",
       "      <th>encounter_id</th>\n",
       "      <th>patient_nbr</th>\n",
       "      <th>race</th>\n",
       "      <th>gender</th>\n",
       "      <th>age</th>\n",
       "      <th>weight</th>\n",
       "      <th>admission_type_id</th>\n",
       "      <th>discharge_disposition_id</th>\n",
       "      <th>admission_source_id</th>\n",
       "      <th>time_in_hospital</th>\n",
       "      <th>payer_code</th>\n",
       "      <th>medical_specialty</th>\n",
       "      <th>num_lab_procedures</th>\n",
       "      <th>num_procedures</th>\n",
       "      <th>num_medications</th>\n",
       "      <th>number_outpatient</th>\n",
       "      <th>number_emergency</th>\n",
       "      <th>number_inpatient</th>\n",
       "      <th>diag_1</th>\n",
       "      <th>diag_2</th>\n",
       "      <th>diag_3</th>\n",
       "      <th>number_diagnoses</th>\n",
       "      <th>max_glu_serum</th>\n",
       "      <th>A1Cresult</th>\n",
       "      <th>metformin</th>\n",
       "      <th>repaglinide</th>\n",
       "      <th>nateglinide</th>\n",
       "      <th>chlorpropamide</th>\n",
       "      <th>glimepiride</th>\n",
       "      <th>acetohexamide</th>\n",
       "      <th>glipizide</th>\n",
       "      <th>glyburide</th>\n",
       "      <th>tolbutamide</th>\n",
       "      <th>pioglitazone</th>\n",
       "      <th>rosiglitazone</th>\n",
       "      <th>acarbose</th>\n",
       "      <th>miglitol</th>\n",
       "      <th>troglitazone</th>\n",
       "      <th>tolazamide</th>\n",
       "      <th>examide</th>\n",
       "      <th>citoglipton</th>\n",
       "      <th>insulin</th>\n",
       "      <th>glyburide-metformin</th>\n",
       "      <th>glipizide-metformin</th>\n",
       "      <th>glimepiride-pioglitazone</th>\n",
       "      <th>metformin-rosiglitazone</th>\n",
       "      <th>metformin-pioglitazone</th>\n",
       "      <th>change</th>\n",
       "      <th>diabetesMed</th>\n",
       "      <th>readmitted</th>\n",
       "    </tr>\n",
       "  </thead>\n",
       "  <tbody>\n",
       "    <tr>\n",
       "      <th>0</th>\n",
       "      <td>2278392</td>\n",
       "      <td>8222157</td>\n",
       "      <td>Caucasian</td>\n",
       "      <td>Female</td>\n",
       "      <td>[0-10)</td>\n",
       "      <td>?</td>\n",
       "      <td>6</td>\n",
       "      <td>25</td>\n",
       "      <td>1</td>\n",
       "      <td>1</td>\n",
       "      <td>?</td>\n",
       "      <td>Pediatrics-Endocrinology</td>\n",
       "      <td>41</td>\n",
       "      <td>0</td>\n",
       "      <td>1</td>\n",
       "      <td>0</td>\n",
       "      <td>0</td>\n",
       "      <td>0</td>\n",
       "      <td>250.83</td>\n",
       "      <td>?</td>\n",
       "      <td>?</td>\n",
       "      <td>1</td>\n",
       "      <td>NaN</td>\n",
       "      <td>NaN</td>\n",
       "      <td>No</td>\n",
       "      <td>No</td>\n",
       "      <td>No</td>\n",
       "      <td>No</td>\n",
       "      <td>No</td>\n",
       "      <td>No</td>\n",
       "      <td>No</td>\n",
       "      <td>No</td>\n",
       "      <td>No</td>\n",
       "      <td>No</td>\n",
       "      <td>No</td>\n",
       "      <td>No</td>\n",
       "      <td>No</td>\n",
       "      <td>No</td>\n",
       "      <td>No</td>\n",
       "      <td>No</td>\n",
       "      <td>No</td>\n",
       "      <td>No</td>\n",
       "      <td>No</td>\n",
       "      <td>No</td>\n",
       "      <td>No</td>\n",
       "      <td>No</td>\n",
       "      <td>No</td>\n",
       "      <td>No</td>\n",
       "      <td>No</td>\n",
       "      <td>NO</td>\n",
       "    </tr>\n",
       "    <tr>\n",
       "      <th>1</th>\n",
       "      <td>149190</td>\n",
       "      <td>55629189</td>\n",
       "      <td>Caucasian</td>\n",
       "      <td>Female</td>\n",
       "      <td>[10-20)</td>\n",
       "      <td>?</td>\n",
       "      <td>1</td>\n",
       "      <td>1</td>\n",
       "      <td>7</td>\n",
       "      <td>3</td>\n",
       "      <td>?</td>\n",
       "      <td>?</td>\n",
       "      <td>59</td>\n",
       "      <td>0</td>\n",
       "      <td>18</td>\n",
       "      <td>0</td>\n",
       "      <td>0</td>\n",
       "      <td>0</td>\n",
       "      <td>276</td>\n",
       "      <td>250.01</td>\n",
       "      <td>255</td>\n",
       "      <td>9</td>\n",
       "      <td>NaN</td>\n",
       "      <td>NaN</td>\n",
       "      <td>No</td>\n",
       "      <td>No</td>\n",
       "      <td>No</td>\n",
       "      <td>No</td>\n",
       "      <td>No</td>\n",
       "      <td>No</td>\n",
       "      <td>No</td>\n",
       "      <td>No</td>\n",
       "      <td>No</td>\n",
       "      <td>No</td>\n",
       "      <td>No</td>\n",
       "      <td>No</td>\n",
       "      <td>No</td>\n",
       "      <td>No</td>\n",
       "      <td>No</td>\n",
       "      <td>No</td>\n",
       "      <td>No</td>\n",
       "      <td>Up</td>\n",
       "      <td>No</td>\n",
       "      <td>No</td>\n",
       "      <td>No</td>\n",
       "      <td>No</td>\n",
       "      <td>No</td>\n",
       "      <td>Ch</td>\n",
       "      <td>Yes</td>\n",
       "      <td>&gt;30</td>\n",
       "    </tr>\n",
       "    <tr>\n",
       "      <th>2</th>\n",
       "      <td>64410</td>\n",
       "      <td>86047875</td>\n",
       "      <td>AfricanAmerican</td>\n",
       "      <td>Female</td>\n",
       "      <td>[20-30)</td>\n",
       "      <td>?</td>\n",
       "      <td>1</td>\n",
       "      <td>1</td>\n",
       "      <td>7</td>\n",
       "      <td>2</td>\n",
       "      <td>?</td>\n",
       "      <td>?</td>\n",
       "      <td>11</td>\n",
       "      <td>5</td>\n",
       "      <td>13</td>\n",
       "      <td>2</td>\n",
       "      <td>0</td>\n",
       "      <td>1</td>\n",
       "      <td>648</td>\n",
       "      <td>250</td>\n",
       "      <td>V27</td>\n",
       "      <td>6</td>\n",
       "      <td>NaN</td>\n",
       "      <td>NaN</td>\n",
       "      <td>No</td>\n",
       "      <td>No</td>\n",
       "      <td>No</td>\n",
       "      <td>No</td>\n",
       "      <td>No</td>\n",
       "      <td>No</td>\n",
       "      <td>Steady</td>\n",
       "      <td>No</td>\n",
       "      <td>No</td>\n",
       "      <td>No</td>\n",
       "      <td>No</td>\n",
       "      <td>No</td>\n",
       "      <td>No</td>\n",
       "      <td>No</td>\n",
       "      <td>No</td>\n",
       "      <td>No</td>\n",
       "      <td>No</td>\n",
       "      <td>No</td>\n",
       "      <td>No</td>\n",
       "      <td>No</td>\n",
       "      <td>No</td>\n",
       "      <td>No</td>\n",
       "      <td>No</td>\n",
       "      <td>No</td>\n",
       "      <td>Yes</td>\n",
       "      <td>NO</td>\n",
       "    </tr>\n",
       "    <tr>\n",
       "      <th>3</th>\n",
       "      <td>500364</td>\n",
       "      <td>82442376</td>\n",
       "      <td>Caucasian</td>\n",
       "      <td>Male</td>\n",
       "      <td>[30-40)</td>\n",
       "      <td>?</td>\n",
       "      <td>1</td>\n",
       "      <td>1</td>\n",
       "      <td>7</td>\n",
       "      <td>2</td>\n",
       "      <td>?</td>\n",
       "      <td>?</td>\n",
       "      <td>44</td>\n",
       "      <td>1</td>\n",
       "      <td>16</td>\n",
       "      <td>0</td>\n",
       "      <td>0</td>\n",
       "      <td>0</td>\n",
       "      <td>8</td>\n",
       "      <td>250.43</td>\n",
       "      <td>403</td>\n",
       "      <td>7</td>\n",
       "      <td>NaN</td>\n",
       "      <td>NaN</td>\n",
       "      <td>No</td>\n",
       "      <td>No</td>\n",
       "      <td>No</td>\n",
       "      <td>No</td>\n",
       "      <td>No</td>\n",
       "      <td>No</td>\n",
       "      <td>No</td>\n",
       "      <td>No</td>\n",
       "      <td>No</td>\n",
       "      <td>No</td>\n",
       "      <td>No</td>\n",
       "      <td>No</td>\n",
       "      <td>No</td>\n",
       "      <td>No</td>\n",
       "      <td>No</td>\n",
       "      <td>No</td>\n",
       "      <td>No</td>\n",
       "      <td>Up</td>\n",
       "      <td>No</td>\n",
       "      <td>No</td>\n",
       "      <td>No</td>\n",
       "      <td>No</td>\n",
       "      <td>No</td>\n",
       "      <td>Ch</td>\n",
       "      <td>Yes</td>\n",
       "      <td>NO</td>\n",
       "    </tr>\n",
       "    <tr>\n",
       "      <th>4</th>\n",
       "      <td>16680</td>\n",
       "      <td>42519267</td>\n",
       "      <td>Caucasian</td>\n",
       "      <td>Male</td>\n",
       "      <td>[40-50)</td>\n",
       "      <td>?</td>\n",
       "      <td>1</td>\n",
       "      <td>1</td>\n",
       "      <td>7</td>\n",
       "      <td>1</td>\n",
       "      <td>?</td>\n",
       "      <td>?</td>\n",
       "      <td>51</td>\n",
       "      <td>0</td>\n",
       "      <td>8</td>\n",
       "      <td>0</td>\n",
       "      <td>0</td>\n",
       "      <td>0</td>\n",
       "      <td>197</td>\n",
       "      <td>157</td>\n",
       "      <td>250</td>\n",
       "      <td>5</td>\n",
       "      <td>NaN</td>\n",
       "      <td>NaN</td>\n",
       "      <td>No</td>\n",
       "      <td>No</td>\n",
       "      <td>No</td>\n",
       "      <td>No</td>\n",
       "      <td>No</td>\n",
       "      <td>No</td>\n",
       "      <td>Steady</td>\n",
       "      <td>No</td>\n",
       "      <td>No</td>\n",
       "      <td>No</td>\n",
       "      <td>No</td>\n",
       "      <td>No</td>\n",
       "      <td>No</td>\n",
       "      <td>No</td>\n",
       "      <td>No</td>\n",
       "      <td>No</td>\n",
       "      <td>No</td>\n",
       "      <td>Steady</td>\n",
       "      <td>No</td>\n",
       "      <td>No</td>\n",
       "      <td>No</td>\n",
       "      <td>No</td>\n",
       "      <td>No</td>\n",
       "      <td>Ch</td>\n",
       "      <td>Yes</td>\n",
       "      <td>NO</td>\n",
       "    </tr>\n",
       "  </tbody>\n",
       "</table>\n",
       "</div>"
      ],
      "text/plain": [
       "   encounter_id  patient_nbr             race  gender      age weight  \\\n",
       "0       2278392      8222157        Caucasian  Female   [0-10)      ?   \n",
       "1        149190     55629189        Caucasian  Female  [10-20)      ?   \n",
       "2         64410     86047875  AfricanAmerican  Female  [20-30)      ?   \n",
       "3        500364     82442376        Caucasian    Male  [30-40)      ?   \n",
       "4         16680     42519267        Caucasian    Male  [40-50)      ?   \n",
       "\n",
       "   admission_type_id  discharge_disposition_id  admission_source_id  \\\n",
       "0                  6                        25                    1   \n",
       "1                  1                         1                    7   \n",
       "2                  1                         1                    7   \n",
       "3                  1                         1                    7   \n",
       "4                  1                         1                    7   \n",
       "\n",
       "   time_in_hospital payer_code         medical_specialty  num_lab_procedures  \\\n",
       "0                 1          ?  Pediatrics-Endocrinology                  41   \n",
       "1                 3          ?                         ?                  59   \n",
       "2                 2          ?                         ?                  11   \n",
       "3                 2          ?                         ?                  44   \n",
       "4                 1          ?                         ?                  51   \n",
       "\n",
       "   num_procedures  num_medications  number_outpatient  number_emergency  \\\n",
       "0               0                1                  0                 0   \n",
       "1               0               18                  0                 0   \n",
       "2               5               13                  2                 0   \n",
       "3               1               16                  0                 0   \n",
       "4               0                8                  0                 0   \n",
       "\n",
       "   number_inpatient  diag_1  diag_2 diag_3  number_diagnoses max_glu_serum  \\\n",
       "0                 0  250.83       ?      ?                 1           NaN   \n",
       "1                 0     276  250.01    255                 9           NaN   \n",
       "2                 1     648     250    V27                 6           NaN   \n",
       "3                 0       8  250.43    403                 7           NaN   \n",
       "4                 0     197     157    250                 5           NaN   \n",
       "\n",
       "  A1Cresult metformin repaglinide nateglinide chlorpropamide glimepiride  \\\n",
       "0       NaN        No          No          No             No          No   \n",
       "1       NaN        No          No          No             No          No   \n",
       "2       NaN        No          No          No             No          No   \n",
       "3       NaN        No          No          No             No          No   \n",
       "4       NaN        No          No          No             No          No   \n",
       "\n",
       "  acetohexamide glipizide glyburide tolbutamide pioglitazone rosiglitazone  \\\n",
       "0            No        No        No          No           No            No   \n",
       "1            No        No        No          No           No            No   \n",
       "2            No    Steady        No          No           No            No   \n",
       "3            No        No        No          No           No            No   \n",
       "4            No    Steady        No          No           No            No   \n",
       "\n",
       "  acarbose miglitol troglitazone tolazamide examide citoglipton insulin  \\\n",
       "0       No       No           No         No      No          No      No   \n",
       "1       No       No           No         No      No          No      Up   \n",
       "2       No       No           No         No      No          No      No   \n",
       "3       No       No           No         No      No          No      Up   \n",
       "4       No       No           No         No      No          No  Steady   \n",
       "\n",
       "  glyburide-metformin glipizide-metformin glimepiride-pioglitazone  \\\n",
       "0                  No                  No                       No   \n",
       "1                  No                  No                       No   \n",
       "2                  No                  No                       No   \n",
       "3                  No                  No                       No   \n",
       "4                  No                  No                       No   \n",
       "\n",
       "  metformin-rosiglitazone metformin-pioglitazone change diabetesMed readmitted  \n",
       "0                      No                     No     No          No         NO  \n",
       "1                      No                     No     Ch         Yes        >30  \n",
       "2                      No                     No     No         Yes         NO  \n",
       "3                      No                     No     Ch         Yes         NO  \n",
       "4                      No                     No     Ch         Yes         NO  "
      ]
     },
     "execution_count": 3,
     "metadata": {},
     "output_type": "execute_result"
    }
   ],
   "source": [
    "diabetes.head()"
   ]
  },
  {
   "cell_type": "code",
   "execution_count": 4,
   "metadata": {},
   "outputs": [
    {
     "data": {
      "application/vnd.microsoft.datawrangler.viewer.v0+json": {
       "columns": [
        {
         "name": "index",
         "rawType": "object",
         "type": "string"
        },
        {
         "name": "0",
         "rawType": "int64",
         "type": "integer"
        }
       ],
       "ref": "fbac6f96-38f3-4f6d-9779-f4e0f9472155",
       "rows": [
        [
         "encounter_id",
         "0"
        ],
        [
         "patient_nbr",
         "0"
        ],
        [
         "race",
         "0"
        ],
        [
         "gender",
         "0"
        ],
        [
         "age",
         "0"
        ],
        [
         "weight",
         "0"
        ],
        [
         "admission_type_id",
         "0"
        ],
        [
         "discharge_disposition_id",
         "0"
        ],
        [
         "admission_source_id",
         "0"
        ],
        [
         "time_in_hospital",
         "0"
        ],
        [
         "payer_code",
         "0"
        ],
        [
         "medical_specialty",
         "0"
        ],
        [
         "num_lab_procedures",
         "0"
        ],
        [
         "num_procedures",
         "0"
        ],
        [
         "num_medications",
         "0"
        ],
        [
         "number_outpatient",
         "0"
        ],
        [
         "number_emergency",
         "0"
        ],
        [
         "number_inpatient",
         "0"
        ],
        [
         "diag_1",
         "0"
        ],
        [
         "diag_2",
         "0"
        ],
        [
         "diag_3",
         "0"
        ],
        [
         "number_diagnoses",
         "0"
        ],
        [
         "max_glu_serum",
         "96420"
        ],
        [
         "A1Cresult",
         "84748"
        ],
        [
         "metformin",
         "0"
        ],
        [
         "repaglinide",
         "0"
        ],
        [
         "nateglinide",
         "0"
        ],
        [
         "chlorpropamide",
         "0"
        ],
        [
         "glimepiride",
         "0"
        ],
        [
         "acetohexamide",
         "0"
        ],
        [
         "glipizide",
         "0"
        ],
        [
         "glyburide",
         "0"
        ],
        [
         "tolbutamide",
         "0"
        ],
        [
         "pioglitazone",
         "0"
        ],
        [
         "rosiglitazone",
         "0"
        ],
        [
         "acarbose",
         "0"
        ],
        [
         "miglitol",
         "0"
        ],
        [
         "troglitazone",
         "0"
        ],
        [
         "tolazamide",
         "0"
        ],
        [
         "examide",
         "0"
        ],
        [
         "citoglipton",
         "0"
        ],
        [
         "insulin",
         "0"
        ],
        [
         "glyburide-metformin",
         "0"
        ],
        [
         "glipizide-metformin",
         "0"
        ],
        [
         "glimepiride-pioglitazone",
         "0"
        ],
        [
         "metformin-rosiglitazone",
         "0"
        ],
        [
         "metformin-pioglitazone",
         "0"
        ],
        [
         "change",
         "0"
        ],
        [
         "diabetesMed",
         "0"
        ],
        [
         "readmitted",
         "0"
        ]
       ],
       "shape": {
        "columns": 1,
        "rows": 50
       }
      },
      "text/plain": [
       "encounter_id                    0\n",
       "patient_nbr                     0\n",
       "race                            0\n",
       "gender                          0\n",
       "age                             0\n",
       "weight                          0\n",
       "admission_type_id               0\n",
       "discharge_disposition_id        0\n",
       "admission_source_id             0\n",
       "time_in_hospital                0\n",
       "payer_code                      0\n",
       "medical_specialty               0\n",
       "num_lab_procedures              0\n",
       "num_procedures                  0\n",
       "num_medications                 0\n",
       "number_outpatient               0\n",
       "number_emergency                0\n",
       "number_inpatient                0\n",
       "diag_1                          0\n",
       "diag_2                          0\n",
       "diag_3                          0\n",
       "number_diagnoses                0\n",
       "max_glu_serum               96420\n",
       "A1Cresult                   84748\n",
       "metformin                       0\n",
       "repaglinide                     0\n",
       "nateglinide                     0\n",
       "chlorpropamide                  0\n",
       "glimepiride                     0\n",
       "acetohexamide                   0\n",
       "glipizide                       0\n",
       "glyburide                       0\n",
       "tolbutamide                     0\n",
       "pioglitazone                    0\n",
       "rosiglitazone                   0\n",
       "acarbose                        0\n",
       "miglitol                        0\n",
       "troglitazone                    0\n",
       "tolazamide                      0\n",
       "examide                         0\n",
       "citoglipton                     0\n",
       "insulin                         0\n",
       "glyburide-metformin             0\n",
       "glipizide-metformin             0\n",
       "glimepiride-pioglitazone        0\n",
       "metformin-rosiglitazone         0\n",
       "metformin-pioglitazone          0\n",
       "change                          0\n",
       "diabetesMed                     0\n",
       "readmitted                      0\n",
       "dtype: int64"
      ]
     },
     "execution_count": 4,
     "metadata": {},
     "output_type": "execute_result"
    }
   ],
   "source": [
    "diabetes.isnull().sum()"
   ]
  },
  {
   "cell_type": "markdown",
   "metadata": {},
   "source": [
    "The data could be having \"?\" as a place filler for null values."
   ]
  },
  {
   "cell_type": "code",
   "execution_count": 5,
   "metadata": {},
   "outputs": [
    {
     "data": {
      "application/vnd.microsoft.datawrangler.viewer.v0+json": {
       "columns": [
        {
         "name": "index",
         "rawType": "object",
         "type": "string"
        },
        {
         "name": "0",
         "rawType": "int64",
         "type": "integer"
        }
       ],
       "ref": "3893ff50-bb2c-4a88-8c6c-397552463ad5",
       "rows": [
        [
         "weight",
         "98569"
        ],
        [
         "medical_specialty",
         "49949"
        ],
        [
         "payer_code",
         "40256"
        ],
        [
         "race",
         "2273"
        ],
        [
         "diag_3",
         "1423"
        ],
        [
         "diag_2",
         "358"
        ],
        [
         "diag_1",
         "21"
        ],
        [
         "encounter_id",
         "0"
        ],
        [
         "tolazamide",
         "0"
        ],
        [
         "glyburide",
         "0"
        ],
        [
         "tolbutamide",
         "0"
        ],
        [
         "pioglitazone",
         "0"
        ],
        [
         "rosiglitazone",
         "0"
        ],
        [
         "acarbose",
         "0"
        ],
        [
         "miglitol",
         "0"
        ],
        [
         "troglitazone",
         "0"
        ],
        [
         "citoglipton",
         "0"
        ],
        [
         "examide",
         "0"
        ],
        [
         "acetohexamide",
         "0"
        ],
        [
         "insulin",
         "0"
        ],
        [
         "glyburide-metformin",
         "0"
        ],
        [
         "glipizide-metformin",
         "0"
        ],
        [
         "glimepiride-pioglitazone",
         "0"
        ],
        [
         "metformin-rosiglitazone",
         "0"
        ],
        [
         "metformin-pioglitazone",
         "0"
        ],
        [
         "change",
         "0"
        ],
        [
         "diabetesMed",
         "0"
        ],
        [
         "glipizide",
         "0"
        ],
        [
         "repaglinide",
         "0"
        ],
        [
         "glimepiride",
         "0"
        ],
        [
         "num_medications",
         "0"
        ],
        [
         "gender",
         "0"
        ],
        [
         "age",
         "0"
        ],
        [
         "admission_type_id",
         "0"
        ],
        [
         "discharge_disposition_id",
         "0"
        ],
        [
         "admission_source_id",
         "0"
        ],
        [
         "time_in_hospital",
         "0"
        ],
        [
         "num_lab_procedures",
         "0"
        ],
        [
         "num_procedures",
         "0"
        ],
        [
         "number_outpatient",
         "0"
        ],
        [
         "chlorpropamide",
         "0"
        ],
        [
         "number_emergency",
         "0"
        ],
        [
         "number_inpatient",
         "0"
        ],
        [
         "number_diagnoses",
         "0"
        ],
        [
         "max_glu_serum",
         "0"
        ],
        [
         "A1Cresult",
         "0"
        ],
        [
         "metformin",
         "0"
        ],
        [
         "patient_nbr",
         "0"
        ],
        [
         "nateglinide",
         "0"
        ],
        [
         "readmitted",
         "0"
        ]
       ],
       "shape": {
        "columns": 1,
        "rows": 50
       }
      },
      "text/plain": [
       "weight                      98569\n",
       "medical_specialty           49949\n",
       "payer_code                  40256\n",
       "race                         2273\n",
       "diag_3                       1423\n",
       "diag_2                        358\n",
       "diag_1                         21\n",
       "encounter_id                    0\n",
       "tolazamide                      0\n",
       "glyburide                       0\n",
       "tolbutamide                     0\n",
       "pioglitazone                    0\n",
       "rosiglitazone                   0\n",
       "acarbose                        0\n",
       "miglitol                        0\n",
       "troglitazone                    0\n",
       "citoglipton                     0\n",
       "examide                         0\n",
       "acetohexamide                   0\n",
       "insulin                         0\n",
       "glyburide-metformin             0\n",
       "glipizide-metformin             0\n",
       "glimepiride-pioglitazone        0\n",
       "metformin-rosiglitazone         0\n",
       "metformin-pioglitazone          0\n",
       "change                          0\n",
       "diabetesMed                     0\n",
       "glipizide                       0\n",
       "repaglinide                     0\n",
       "glimepiride                     0\n",
       "num_medications                 0\n",
       "gender                          0\n",
       "age                             0\n",
       "admission_type_id               0\n",
       "discharge_disposition_id        0\n",
       "admission_source_id             0\n",
       "time_in_hospital                0\n",
       "num_lab_procedures              0\n",
       "num_procedures                  0\n",
       "number_outpatient               0\n",
       "chlorpropamide                  0\n",
       "number_emergency                0\n",
       "number_inpatient                0\n",
       "number_diagnoses                0\n",
       "max_glu_serum                   0\n",
       "A1Cresult                       0\n",
       "metformin                       0\n",
       "patient_nbr                     0\n",
       "nateglinide                     0\n",
       "readmitted                      0\n",
       "dtype: int64"
      ]
     },
     "execution_count": 5,
     "metadata": {},
     "output_type": "execute_result"
    }
   ],
   "source": [
    "diabetes.apply(lambda col: (col == '?').sum()).sort_values(ascending=False)\n"
   ]
  },
  {
   "cell_type": "code",
   "execution_count": 6,
   "metadata": {},
   "outputs": [],
   "source": [
    "diabetes.replace('?', np.nan, inplace=True)"
   ]
  },
  {
   "cell_type": "markdown",
   "metadata": {},
   "source": [
    "Let us check categorical columns with many unique values"
   ]
  },
  {
   "cell_type": "code",
   "execution_count": 7,
   "metadata": {},
   "outputs": [
    {
     "name": "stdout",
     "output_type": "stream",
     "text": [
      "race: ['Caucasian' 'AfricanAmerican' nan 'Other' 'Asian' 'Hispanic']\n",
      "gender: ['Female' 'Male' 'Unknown/Invalid']\n",
      "age: ['[0-10)' '[10-20)' '[20-30)' '[30-40)' '[40-50)' '[50-60)' '[60-70)'\n",
      " '[70-80)' '[80-90)' '[90-100)']\n",
      "weight: [nan '[75-100)' '[50-75)' '[0-25)' '[100-125)' '[25-50)' '[125-150)'\n",
      " '[175-200)' '[150-175)' '>200']\n",
      "payer_code: [nan 'MC' 'MD' 'HM' 'UN' 'BC' 'SP' 'CP' 'SI' 'DM' 'CM' 'CH' 'PO' 'WC' 'OT'\n",
      " 'OG' 'MP' 'FR']\n",
      "max_glu_serum: [nan '>300' 'Norm' '>200']\n",
      "A1Cresult: [nan '>7' '>8' 'Norm']\n",
      "metformin: ['No' 'Steady' 'Up' 'Down']\n",
      "repaglinide: ['No' 'Up' 'Steady' 'Down']\n",
      "nateglinide: ['No' 'Steady' 'Down' 'Up']\n",
      "chlorpropamide: ['No' 'Steady' 'Down' 'Up']\n",
      "glimepiride: ['No' 'Steady' 'Down' 'Up']\n",
      "acetohexamide: ['No' 'Steady']\n",
      "glipizide: ['No' 'Steady' 'Up' 'Down']\n",
      "glyburide: ['No' 'Steady' 'Up' 'Down']\n",
      "tolbutamide: ['No' 'Steady']\n",
      "pioglitazone: ['No' 'Steady' 'Up' 'Down']\n",
      "rosiglitazone: ['No' 'Steady' 'Up' 'Down']\n",
      "acarbose: ['No' 'Steady' 'Up' 'Down']\n",
      "miglitol: ['No' 'Steady' 'Down' 'Up']\n",
      "troglitazone: ['No' 'Steady']\n",
      "tolazamide: ['No' 'Steady' 'Up']\n",
      "examide: ['No']\n",
      "citoglipton: ['No']\n",
      "insulin: ['No' 'Up' 'Steady' 'Down']\n",
      "glyburide-metformin: ['No' 'Steady' 'Down' 'Up']\n",
      "glipizide-metformin: ['No' 'Steady']\n",
      "glimepiride-pioglitazone: ['No' 'Steady']\n",
      "metformin-rosiglitazone: ['No' 'Steady']\n",
      "metformin-pioglitazone: ['No' 'Steady']\n",
      "change: ['No' 'Ch']\n",
      "diabetesMed: ['No' 'Yes']\n",
      "readmitted: ['NO' '>30' '<30']\n"
     ]
    }
   ],
   "source": [
    "for col in diabetes.columns:\n",
    "    if diabetes[col].dtype == 'object':\n",
    "        unique_vals = diabetes[col].nunique()\n",
    "        if unique_vals < 20:\n",
    "            print(f\"{col}: {diabetes[col].unique()}\")"
   ]
  },
  {
   "cell_type": "markdown",
   "id": "0b0c6da8",
   "metadata": {},
   "source": [
    "Since we will be looking at the readmitted coulumn, we can simplify it so that if Readmitted =\"<30\" we have a 1 if else we have a 0.(Yes or No)"
   ]
  },
  {
   "cell_type": "code",
   "execution_count": 8,
   "id": "eae690af",
   "metadata": {},
   "outputs": [],
   "source": [
    "# Binary target: 1 if readmitted within 30 days, else 0\n",
    "diabetes['readmit_30'] = diabetes['readmitted'].apply(lambda x: 1 if x == '<30' else 0)"
   ]
  },
  {
   "cell_type": "code",
   "execution_count": 9,
   "id": "de8b0106",
   "metadata": {},
   "outputs": [],
   "source": [
    "diabetes.drop(['weight', 'payer_code', 'encounter_id', 'patient_nbr'], axis=1, inplace=True)"
   ]
  },
  {
   "cell_type": "code",
   "execution_count": 10,
   "id": "3388953a",
   "metadata": {},
   "outputs": [
    {
     "data": {
      "text/plain": [
       "0"
      ]
     },
     "execution_count": 10,
     "metadata": {},
     "output_type": "execute_result"
    }
   ],
   "source": [
    "diabetes.duplicated().sum()"
   ]
  },
  {
   "cell_type": "code",
   "execution_count": 11,
   "id": "a5589818",
   "metadata": {},
   "outputs": [
    {
     "data": {
      "application/vnd.microsoft.datawrangler.viewer.v0+json": {
       "columns": [
        {
         "name": "index",
         "rawType": "object",
         "type": "string"
        },
        {
         "name": "0",
         "rawType": "int64",
         "type": "integer"
        }
       ],
       "ref": "368f26ba-98ad-4edb-915c-56c5e92c43eb",
       "rows": [
        [
         "race",
         "2273"
        ],
        [
         "gender",
         "0"
        ],
        [
         "age",
         "0"
        ],
        [
         "admission_type_id",
         "0"
        ],
        [
         "discharge_disposition_id",
         "0"
        ],
        [
         "admission_source_id",
         "0"
        ],
        [
         "time_in_hospital",
         "0"
        ],
        [
         "medical_specialty",
         "49949"
        ],
        [
         "num_lab_procedures",
         "0"
        ],
        [
         "num_procedures",
         "0"
        ],
        [
         "num_medications",
         "0"
        ],
        [
         "number_outpatient",
         "0"
        ],
        [
         "number_emergency",
         "0"
        ],
        [
         "number_inpatient",
         "0"
        ],
        [
         "diag_1",
         "21"
        ],
        [
         "diag_2",
         "358"
        ],
        [
         "diag_3",
         "1423"
        ],
        [
         "number_diagnoses",
         "0"
        ],
        [
         "max_glu_serum",
         "96420"
        ],
        [
         "A1Cresult",
         "84748"
        ],
        [
         "metformin",
         "0"
        ],
        [
         "repaglinide",
         "0"
        ],
        [
         "nateglinide",
         "0"
        ],
        [
         "chlorpropamide",
         "0"
        ],
        [
         "glimepiride",
         "0"
        ],
        [
         "acetohexamide",
         "0"
        ],
        [
         "glipizide",
         "0"
        ],
        [
         "glyburide",
         "0"
        ],
        [
         "tolbutamide",
         "0"
        ],
        [
         "pioglitazone",
         "0"
        ],
        [
         "rosiglitazone",
         "0"
        ],
        [
         "acarbose",
         "0"
        ],
        [
         "miglitol",
         "0"
        ],
        [
         "troglitazone",
         "0"
        ],
        [
         "tolazamide",
         "0"
        ],
        [
         "examide",
         "0"
        ],
        [
         "citoglipton",
         "0"
        ],
        [
         "insulin",
         "0"
        ],
        [
         "glyburide-metformin",
         "0"
        ],
        [
         "glipizide-metformin",
         "0"
        ],
        [
         "glimepiride-pioglitazone",
         "0"
        ],
        [
         "metformin-rosiglitazone",
         "0"
        ],
        [
         "metformin-pioglitazone",
         "0"
        ],
        [
         "change",
         "0"
        ],
        [
         "diabetesMed",
         "0"
        ],
        [
         "readmitted",
         "0"
        ],
        [
         "readmit_30",
         "0"
        ]
       ],
       "shape": {
        "columns": 1,
        "rows": 47
       }
      },
      "text/plain": [
       "race                         2273\n",
       "gender                          0\n",
       "age                             0\n",
       "admission_type_id               0\n",
       "discharge_disposition_id        0\n",
       "admission_source_id             0\n",
       "time_in_hospital                0\n",
       "medical_specialty           49949\n",
       "num_lab_procedures              0\n",
       "num_procedures                  0\n",
       "num_medications                 0\n",
       "number_outpatient               0\n",
       "number_emergency                0\n",
       "number_inpatient                0\n",
       "diag_1                         21\n",
       "diag_2                        358\n",
       "diag_3                       1423\n",
       "number_diagnoses                0\n",
       "max_glu_serum               96420\n",
       "A1Cresult                   84748\n",
       "metformin                       0\n",
       "repaglinide                     0\n",
       "nateglinide                     0\n",
       "chlorpropamide                  0\n",
       "glimepiride                     0\n",
       "acetohexamide                   0\n",
       "glipizide                       0\n",
       "glyburide                       0\n",
       "tolbutamide                     0\n",
       "pioglitazone                    0\n",
       "rosiglitazone                   0\n",
       "acarbose                        0\n",
       "miglitol                        0\n",
       "troglitazone                    0\n",
       "tolazamide                      0\n",
       "examide                         0\n",
       "citoglipton                     0\n",
       "insulin                         0\n",
       "glyburide-metformin             0\n",
       "glipizide-metformin             0\n",
       "glimepiride-pioglitazone        0\n",
       "metformin-rosiglitazone         0\n",
       "metformin-pioglitazone          0\n",
       "change                          0\n",
       "diabetesMed                     0\n",
       "readmitted                      0\n",
       "readmit_30                      0\n",
       "dtype: int64"
      ]
     },
     "execution_count": 11,
     "metadata": {},
     "output_type": "execute_result"
    }
   ],
   "source": [
    "diabetes.isnull().sum()"
   ]
  },
  {
   "cell_type": "code",
   "execution_count": 12,
   "id": "3bebcaf8",
   "metadata": {},
   "outputs": [],
   "source": [
    "diabetes['medical_specialty'].fillna('Unknown', inplace=True)\n",
    "diabetes['race'].fillna('Unknown', inplace=True)"
   ]
  },
  {
   "cell_type": "code",
   "execution_count": 13,
   "id": "5639991e",
   "metadata": {},
   "outputs": [
    {
     "data": {
      "application/vnd.microsoft.datawrangler.viewer.v0+json": {
       "columns": [
        {
         "name": "index",
         "rawType": "object",
         "type": "string"
        },
        {
         "name": "0",
         "rawType": "int64",
         "type": "integer"
        }
       ],
       "ref": "98f8b219-0027-443a-8873-23c2d2d622db",
       "rows": [
        [
         "race",
         "0"
        ],
        [
         "gender",
         "0"
        ],
        [
         "age",
         "0"
        ],
        [
         "admission_type_id",
         "0"
        ],
        [
         "discharge_disposition_id",
         "0"
        ],
        [
         "admission_source_id",
         "0"
        ],
        [
         "time_in_hospital",
         "0"
        ],
        [
         "medical_specialty",
         "0"
        ],
        [
         "num_lab_procedures",
         "0"
        ],
        [
         "num_procedures",
         "0"
        ],
        [
         "num_medications",
         "0"
        ],
        [
         "number_outpatient",
         "0"
        ],
        [
         "number_emergency",
         "0"
        ],
        [
         "number_inpatient",
         "0"
        ],
        [
         "diag_1",
         "21"
        ],
        [
         "diag_2",
         "358"
        ],
        [
         "diag_3",
         "1423"
        ],
        [
         "number_diagnoses",
         "0"
        ],
        [
         "max_glu_serum",
         "96420"
        ],
        [
         "A1Cresult",
         "84748"
        ],
        [
         "metformin",
         "0"
        ],
        [
         "repaglinide",
         "0"
        ],
        [
         "nateglinide",
         "0"
        ],
        [
         "chlorpropamide",
         "0"
        ],
        [
         "glimepiride",
         "0"
        ],
        [
         "acetohexamide",
         "0"
        ],
        [
         "glipizide",
         "0"
        ],
        [
         "glyburide",
         "0"
        ],
        [
         "tolbutamide",
         "0"
        ],
        [
         "pioglitazone",
         "0"
        ],
        [
         "rosiglitazone",
         "0"
        ],
        [
         "acarbose",
         "0"
        ],
        [
         "miglitol",
         "0"
        ],
        [
         "troglitazone",
         "0"
        ],
        [
         "tolazamide",
         "0"
        ],
        [
         "examide",
         "0"
        ],
        [
         "citoglipton",
         "0"
        ],
        [
         "insulin",
         "0"
        ],
        [
         "glyburide-metformin",
         "0"
        ],
        [
         "glipizide-metformin",
         "0"
        ],
        [
         "glimepiride-pioglitazone",
         "0"
        ],
        [
         "metformin-rosiglitazone",
         "0"
        ],
        [
         "metformin-pioglitazone",
         "0"
        ],
        [
         "change",
         "0"
        ],
        [
         "diabetesMed",
         "0"
        ],
        [
         "readmitted",
         "0"
        ],
        [
         "readmit_30",
         "0"
        ]
       ],
       "shape": {
        "columns": 1,
        "rows": 47
       }
      },
      "text/plain": [
       "race                            0\n",
       "gender                          0\n",
       "age                             0\n",
       "admission_type_id               0\n",
       "discharge_disposition_id        0\n",
       "admission_source_id             0\n",
       "time_in_hospital                0\n",
       "medical_specialty               0\n",
       "num_lab_procedures              0\n",
       "num_procedures                  0\n",
       "num_medications                 0\n",
       "number_outpatient               0\n",
       "number_emergency                0\n",
       "number_inpatient                0\n",
       "diag_1                         21\n",
       "diag_2                        358\n",
       "diag_3                       1423\n",
       "number_diagnoses                0\n",
       "max_glu_serum               96420\n",
       "A1Cresult                   84748\n",
       "metformin                       0\n",
       "repaglinide                     0\n",
       "nateglinide                     0\n",
       "chlorpropamide                  0\n",
       "glimepiride                     0\n",
       "acetohexamide                   0\n",
       "glipizide                       0\n",
       "glyburide                       0\n",
       "tolbutamide                     0\n",
       "pioglitazone                    0\n",
       "rosiglitazone                   0\n",
       "acarbose                        0\n",
       "miglitol                        0\n",
       "troglitazone                    0\n",
       "tolazamide                      0\n",
       "examide                         0\n",
       "citoglipton                     0\n",
       "insulin                         0\n",
       "glyburide-metformin             0\n",
       "glipizide-metformin             0\n",
       "glimepiride-pioglitazone        0\n",
       "metformin-rosiglitazone         0\n",
       "metformin-pioglitazone          0\n",
       "change                          0\n",
       "diabetesMed                     0\n",
       "readmitted                      0\n",
       "readmit_30                      0\n",
       "dtype: int64"
      ]
     },
     "execution_count": 13,
     "metadata": {},
     "output_type": "execute_result"
    }
   ],
   "source": [
    "diabetes.isnull().sum()"
   ]
  },
  {
   "cell_type": "code",
   "execution_count": 14,
   "id": "573ec291",
   "metadata": {},
   "outputs": [
    {
     "data": {
      "text/plain": [
       "dtype('O')"
      ]
     },
     "execution_count": 14,
     "metadata": {},
     "output_type": "execute_result"
    }
   ],
   "source": [
    "diabetes[\"diag_2\"].dtype"
   ]
  },
  {
   "cell_type": "code",
   "execution_count": 15,
   "id": "987fea24",
   "metadata": {},
   "outputs": [],
   "source": [
    "diabetes['diag_1'].fillna('Missing', inplace=True)\n",
    "diabetes['diag_2'].fillna('Missing', inplace=True)\n",
    "diabetes['diag_3'].fillna('Missing', inplace=True)"
   ]
  },
  {
   "cell_type": "markdown",
   "id": "2d990cbe",
   "metadata": {},
   "source": [
    "### Exploratory Data Analysis"
   ]
  },
  {
   "cell_type": "markdown",
   "id": "139780e8",
   "metadata": {},
   "source": [
    "Here we will be trying to understand the structure of our data, discover patterns, relationships and outliers and generate insights and hypotheses before modelling."
   ]
  },
  {
   "cell_type": "markdown",
   "id": "4eb064d6",
   "metadata": {},
   "source": [
    "1. Target Variable Distribution: Check for balance of readmissions."
   ]
  },
  {
   "cell_type": "code",
   "execution_count": 16,
   "id": "d6f3b45c",
   "metadata": {},
   "outputs": [
    {
     "data": {
      "text/plain": [
       "Text(0.5, 1.0, 'Readmission Categories')"
      ]
     },
     "execution_count": 16,
     "metadata": {},
     "output_type": "execute_result"
    },
    {
     "data": {
      "image/png": "[encoded data removed]",
      "text/plain": [
       "<Figure size 640x480 with 1 Axes>"
      ]
     },
     "metadata": {},
     "output_type": "display_data"
    }
   ],
   "source": [
    "import seaborn as sns\n",
    "import matplotlib.pyplot as plt\n",
    "# Visualizing the distribution of readmission categories\n",
    "sns.countplot(data=diabetes, x='readmitted')\n",
    "plt.title('Readmission Categories')"
   ]
  },
  {
   "cell_type": "code",
   "execution_count": 17,
   "id": "6e2f5796",
   "metadata": {},
   "outputs": [
    {
     "data": {
      "text/plain": [
       "Text(0.5, 1.0, 'Readmitted within 30 Days (0 = No, 1 = Yes)')"
      ]
     },
     "execution_count": 17,
     "metadata": {},
     "output_type": "execute_result"
    },
    {
     "data": {
      "image/png": "[encoded data removed]",
      "text/plain": [
       "<Figure size 640x480 with 1 Axes>"
      ]
     },
     "metadata": {},
     "output_type": "display_data"
    }
   ],
   "source": [
    "# Visualizing the binary target for readmission within 30 days\n",
    "sns.countplot(data=diabetes, x='readmit_30')\n",
    "plt.title('Readmitted within 30 Days (0 = No, 1 = Yes)')"
   ]
  },
  {
   "cell_type": "markdown",
   "id": "83b56884",
   "metadata": {},
   "source": [
    "2. Univariate Analysis\n",
    "\n",
    "Let us look at key features individually."
   ]
  },
  {
   "cell_type": "code",
   "execution_count": 18,
   "id": "13394008",
   "metadata": {},
   "outputs": [
    {
     "data": {
      "text/plain": [
       "<Axes: title={'center': 'Race Distribution'}, xlabel='race'>"
      ]
     },
     "execution_count": 18,
     "metadata": {},
     "output_type": "execute_result"
    },
    {
     "data": {
      "image/png": "[encoded data removed]",
      "text/plain": [
       "<Figure size 640x480 with 1 Axes>"
      ]
     },
     "metadata": {},
     "output_type": "display_data"
    }
   ],
   "source": [
    "# Categorical\n",
    "diabetes['race'].value_counts().plot(kind='bar', title='Race Distribution')\n"
   ]
  },
  {
   "cell_type": "code",
   "execution_count": 19,
   "id": "18d5ef0a",
   "metadata": {},
   "outputs": [
    {
     "data": {
      "text/plain": [
       "<Axes: title={'center': 'Admission Types'}, xlabel='admission_type_id'>"
      ]
     },
     "execution_count": 19,
     "metadata": {},
     "output_type": "execute_result"
    },
    {
     "data": {
      "image/png": "[encoded data removed]",
      "text/plain": [
       "<Figure size 640x480 with 1 Axes>"
      ]
     },
     "metadata": {},
     "output_type": "display_data"
    }
   ],
   "source": [
    "diabetes['admission_type_id'].value_counts().plot(kind='bar', title='Admission Types')"
   ]
  },
  {
   "cell_type": "code",
   "execution_count": 20,
   "id": "728fad95",
   "metadata": {},
   "outputs": [
    {
     "data": {
      "text/plain": [
       "Text(0.5, 1.0, 'Number of Medications')"
      ]
     },
     "execution_count": 20,
     "metadata": {},
     "output_type": "execute_result"
    },
    {
     "data": {
      "image/png": "[encoded data removed]",
      "text/plain": [
       "<Figure size 640x480 with 1 Axes>"
      ]
     },
     "metadata": {},
     "output_type": "display_data"
    }
   ],
   "source": [
    "diabetes['num_medications'].hist(bins=30)\n",
    "plt.title('Number of Medications')"
   ]
  },
  {
   "cell_type": "code",
   "execution_count": 21,
   "id": "f9099d46",
   "metadata": {},
   "outputs": [
    {
     "data": {
      "text/plain": [
       "Text(0.5, 1.0, 'Number of Lab Procedures')"
      ]
     },
     "execution_count": 21,
     "metadata": {},
     "output_type": "execute_result"
    },
    {
     "data": {
      "image/png": "[encoded data removed]",
      "text/plain": [
       "<Figure size 640x480 with 1 Axes>"
      ]
     },
     "metadata": {},
     "output_type": "display_data"
    }
   ],
   "source": [
    "diabetes['num_lab_procedures'].hist(bins=30)\n",
    "plt.title('Number of Lab Procedures')"
   ]
  },
  {
   "cell_type": "markdown",
   "id": "ea7c93dc",
   "metadata": {},
   "source": [
    "3. Bivariate analysis with target: Lets find out how features relate to the target('readmit_30')"
   ]
  },
  {
   "cell_type": "code",
   "execution_count": 22,
   "id": "5fae3644",
   "metadata": {},
   "outputs": [
    {
     "data": {
      "text/plain": [
       "Text(0.5, 1.0, 'Readmission by Gender')"
      ]
     },
     "execution_count": 22,
     "metadata": {},
     "output_type": "execute_result"
    },
    {
     "data": {
      "image/png": "[encoded data removed]",
      "text/plain": [
       "<Figure size 640x480 with 1 Axes>"
      ]
     },
     "metadata": {},
     "output_type": "display_data"
    }
   ],
   "source": [
    "# Categorical features vs target\n",
    "pd.crosstab(diabetes['gender'], diabetes['readmit_30'], normalize='index').plot(kind='bar', stacked=True)\n",
    "plt.title('Readmission by Gender')"
   ]
  },
  {
   "cell_type": "code",
   "execution_count": 23,
   "id": "3aeb0826",
   "metadata": {},
   "outputs": [
    {
     "data": {
      "text/plain": [
       "<Axes: xlabel='readmit_30', ylabel='num_lab_procedures'>"
      ]
     },
     "execution_count": 23,
     "metadata": {},
     "output_type": "execute_result"
    },
    {
     "data": {
      "image/png": "[encoded data removed]",
      "text/plain": [
       "<Figure size 640x480 with 1 Axes>"
      ]
     },
     "metadata": {},
     "output_type": "display_data"
    }
   ],
   "source": [
    "# Numeric features\n",
    "sns.boxplot(data=diabetes, x='readmit_30', y='num_lab_procedures')"
   ]
  },
  {
   "cell_type": "code",
   "execution_count": 24,
   "id": "c205f2b8",
   "metadata": {},
   "outputs": [
    {
     "data": {
      "text/plain": [
       "<Axes: >"
      ]
     },
     "execution_count": 24,
     "metadata": {},
     "output_type": "execute_result"
    },
    {
     "data": {
      "image/png": "[encoded data removed]",
      "text/plain": [
       "<Figure size 1200x800 with 2 Axes>"
      ]
     },
     "metadata": {},
     "output_type": "display_data"
    }
   ],
   "source": [
    "# Correlation matrix\n",
    "corr_matrix = diabetes.select_dtypes(include=[np.number]).corr()\n",
    "plt.figure(figsize=(12, 8))\n",
    "sns.heatmap(corr_matrix, annot=True, fmt=\".2f\", cmap='coolwarm', square=True)"
   ]
  },
  {
   "cell_type": "markdown",
   "id": "b8d9b7cf",
   "metadata": {},
   "source": [
    "Key Observations from the Heatmap\n",
    "1. Target Variable: readmit_30\n",
    "Correlation with all features is very weak, ranging between -0.14 and +0.13.\n",
    "\n",
    "This is expected for many healthcare problems—classification targets are often influenced by complex, nonlinear, and categorical factors, not just numerical ones.\n",
    "\n",
    "2. Strongest Correlates (Even if Weak)\n",
    "🔹 number_inpatient vs readmit_30: ≈ 0.13\n",
    "More inpatient visits → Slightly more chance of readmission.\n",
    "\n",
    "Makes sense: repeat inpatient cases signal chronic or poorly managed conditions.\n",
    "\n",
    "🔹 time_in_hospital: ≈ 0.13\n",
    "Slight positive correlation: longer stays might reflect complications or unstable patients.\n",
    "\n",
    "🔹 num_medications: ≈ 0.08\n",
    "Slightly correlated: more meds might indicate complex treatment or comorbidities.\n",
    "\n",
    "3. Feature Redundancy\n",
    "Some features correlate with each other:\n",
    "\n",
    "num_medications vs num_lab_procedures: moderate positive correlation.\n",
    "\n",
    "number_inpatient, number_outpatient, number_emergency: may reflect healthcare usage pattern."
   ]
  },
  {
   "cell_type": "code",
   "execution_count": 25,
   "id": "83b131f1",
   "metadata": {},
   "outputs": [
    {
     "data": {
      "image/png": "[encoded data removed]",
      "text/plain": [
       "<Figure size 640x480 with 1 Axes>"
      ]
     },
     "metadata": {},
     "output_type": "display_data"
    },
    {
     "data": {
      "image/png": "[encoded data removed]",
      "text/plain": [
       "<Figure size 640x480 with 1 Axes>"
      ]
     },
     "metadata": {},
     "output_type": "display_data"
    },
    {
     "data": {
      "image/png": "[encoded data removed]",
      "text/plain": [
       "<Figure size 640x480 with 1 Axes>"
      ]
     },
     "metadata": {},
     "output_type": "display_data"
    }
   ],
   "source": [
    "def categorize_diag(code):\n",
    "    try:\n",
    "        code = float(code)\n",
    "        if (390 <= code <= 459) or code == 785:\n",
    "            return 'Circulatory'\n",
    "        elif (460 <= code <= 519) or code == 786:\n",
    "            return 'Respiratory'\n",
    "        elif (520 <= code <= 579) or code == 787:\n",
    "            return 'Digestive'\n",
    "        elif 250 <= code < 251:\n",
    "            return 'Diabetes'\n",
    "        elif (800 <= code <= 999):\n",
    "            return 'Injury'\n",
    "        elif (710 <= code <= 739):\n",
    "            return 'Musculoskeletal'\n",
    "        elif (580 <= code <= 629) or code == 788:\n",
    "            return 'Genitourinary'\n",
    "        elif (140 <= code <= 239):\n",
    "            return 'Neoplasms'\n",
    "        else:\n",
    "            return 'Other'\n",
    "    except:\n",
    "        return 'Unknown'\n",
    "\n",
    "for col in ['diag_1', 'diag_2', 'diag_3']:\n",
    "    diabetes[col + '_category'] = diabetes[col].apply(categorize_diag)\n",
    "# Visualizing the distribution of diagnosis categories\n",
    "for col in ['diag_1_category', 'diag_2_category', 'diag_3_category']:\n",
    "    sns.countplot(data=diabetes, x=col)\n",
    "    plt.title(f'Distribution of {col}')\n",
    "    plt.xticks(rotation=45)\n",
    "    plt.show()"
   ]
  },
  {
   "cell_type": "code",
   "execution_count": 26,
   "id": "6519bade",
   "metadata": {},
   "outputs": [
    {
     "name": "stdout",
     "output_type": "stream",
     "text": [
      "readmit_30                  1.000000\n",
      "number_inpatient            0.165147\n",
      "number_emergency            0.060747\n",
      "discharge_disposition_id    0.050560\n",
      "number_diagnoses            0.049524\n",
      "time_in_hospital            0.044199\n",
      "num_medications             0.038432\n",
      "num_lab_procedures          0.020364\n",
      "number_outpatient           0.018893\n",
      "admission_source_id         0.005820\n",
      "admission_type_id          -0.011651\n",
      "num_procedures             -0.012227\n",
      "Name: readmit_30, dtype: float64\n"
     ]
    }
   ],
   "source": [
    "# Convert categorical target to float temporarily\n",
    "correlation = diabetes.corr(numeric_only=True)['readmit_30'].sort_values(ascending=False)\n",
    "print(correlation)\n"
   ]
  },
  {
   "cell_type": "markdown",
   "id": "9adef982",
   "metadata": {},
   "source": [
    "### Feature Engineering\n",
    "On this section well focus on both transformation and creation of new features.\n",
    "The diagnosis codes were grouped in the section above. \n",
    "##### Flagging High-Risk Patient Patterns"
   ]
  },
  {
   "cell_type": "code",
   "execution_count": 27,
   "id": "a838d35e",
   "metadata": {},
   "outputs": [],
   "source": [
    "diabetes['high_inpatient'] = (diabetes['number_inpatient'] > 1).astype(int)\n",
    "diabetes['high_emergency'] = (diabetes['number_emergency'] > 1).astype(int)\n",
    "diabetes['high_outpatient'] = (diabetes['number_outpatient'] > 3).astype(int)\n"
   ]
  },
  {
   "cell_type": "markdown",
   "id": "854a430a",
   "metadata": {},
   "source": [
    "#### Polypharmacy Indicator\n",
    "This is an indicator for many medications"
   ]
  },
  {
   "cell_type": "code",
   "execution_count": 28,
   "id": "0f4462ad",
   "metadata": {},
   "outputs": [],
   "source": [
    "diabetes['polypharmacy'] = (diabetes['num_medications'] > 10).astype(int)\n",
    "diabetes['high_lab_procedures'] = (diabetes['num_lab_procedures'] > 40).astype(int)\n",
    "diabetes['high_procedures'] = (diabetes['num_procedures'] > 5).astype(int)"
   ]
  },
  {
   "cell_type": "code",
   "execution_count": 29,
   "id": "a3f9609e",
   "metadata": {},
   "outputs": [],
   "source": [
    "diabetes['hospital_stay_group'] = pd.cut(\n",
    "    diabetes['time_in_hospital'],\n",
    "    bins=[0, 3, 7, 14],\n",
    "    labels=['Short', 'Medium', 'Long']\n",
    ")\n",
    "diabetes['readmit_30'] = diabetes['readmit_30'].astype(int)"
   ]
  },
  {
   "cell_type": "markdown",
   "id": "175b695d",
   "metadata": {},
   "source": [
    "We can count how many of the three diagnosis codes fall into \"Diabetes\" or \"Circulatory\" showing for chronic burden."
   ]
  },
  {
   "cell_type": "code",
   "execution_count": 30,
   "id": "9e5fd04f",
   "metadata": {},
   "outputs": [],
   "source": [
    "def is_chronic(cat):\n",
    "    return cat in ['Diabetes', 'Circulatory']\n",
    "\n",
    "diabetes['num_chronic_diag'] = (\n",
    "    diabetes['diag_1_category'].apply(is_chronic).astype(int) +\n",
    "    diabetes['diag_2_category'].apply(is_chronic).astype(int) +\n",
    "    diabetes['diag_3_category'].apply(is_chronic).astype(int)\n",
    ")"
   ]
  },
  {
   "cell_type": "code",
   "execution_count": 31,
   "id": "3a8690d3",
   "metadata": {},
   "outputs": [
    {
     "data": {
      "text/plain": [
       "<Axes: xlabel='num_chronic_diag', ylabel='count'>"
      ]
     },
     "execution_count": 31,
     "metadata": {},
     "output_type": "execute_result"
    },
    {
     "data": {
      "image/png": "[encoded data removed]",
      "text/plain": [
       "<Figure size 640x480 with 1 Axes>"
      ]
     },
     "metadata": {},
     "output_type": "display_data"
    }
   ],
   "source": [
    "# Visualizing the number of chronic diagnoses\n",
    "sns.countplot(data=diabetes, x='num_chronic_diag')  "
   ]
  },
  {
   "cell_type": "markdown",
   "id": "ba631dbc",
   "metadata": {},
   "source": []
  },
  {
   "cell_type": "markdown",
   "id": "9b41bbe8",
   "metadata": {},
   "source": [
    "#### Hot Encoding "
   ]
  },
  {
   "cell_type": "markdown",
   "id": "670be6b7",
   "metadata": {},
   "source": [
    "\n"
   ]
  },
  {
   "cell_type": "code",
   "execution_count": 32,
   "id": "d23f250e",
   "metadata": {},
   "outputs": [
    {
     "ename": "KeyError",
     "evalue": "\"['admission_type'] not in index\"",
     "output_type": "error",
     "traceback": [
      "\u001b[1;31m---------------------------------------------------------------------------\u001b[0m",
      "\u001b[1;31mKeyError\u001b[0m                                  Traceback (most recent call last)",
      "Cell \u001b[1;32mIn[32], line 16\u001b[0m\n\u001b[0;32m      5\u001b[0m one_hot_cols \u001b[38;5;241m=\u001b[39m [\n\u001b[0;32m      6\u001b[0m     \u001b[38;5;124m'\u001b[39m\u001b[38;5;124mgender\u001b[39m\u001b[38;5;124m'\u001b[39m,\n\u001b[0;32m      7\u001b[0m     \u001b[38;5;124m'\u001b[39m\u001b[38;5;124mrace\u001b[39m\u001b[38;5;124m'\u001b[39m,\n\u001b[1;32m   (...)\u001b[0m\n\u001b[0;32m     12\u001b[0m     \u001b[38;5;124m'\u001b[39m\u001b[38;5;124mdiag_3_category\u001b[39m\u001b[38;5;124m'\u001b[39m\n\u001b[0;32m     13\u001b[0m ]\n\u001b[0;32m     15\u001b[0m \u001b[38;5;66;03m# Safely apply one-hot encoding using pandas\u001b[39;00m\n\u001b[1;32m---> 16\u001b[0m diabetes \u001b[38;5;241m=\u001b[39m pd\u001b[38;5;241m.\u001b[39mget_dummies(diabetes, columns\u001b[38;5;241m=\u001b[39mone_hot_cols, drop_first\u001b[38;5;241m=\u001b[39m\u001b[38;5;28;01mTrue\u001b[39;00m)\n\u001b[0;32m     18\u001b[0m \u001b[38;5;66;03m# --- 2. Label Encode High-Cardinality or Numeric-Coded Categorical Columns ---\u001b[39;00m\n\u001b[0;32m     19\u001b[0m label_cols \u001b[38;5;241m=\u001b[39m [\u001b[38;5;124m'\u001b[39m\u001b[38;5;124mmedical_specialty\u001b[39m\u001b[38;5;124m'\u001b[39m, \u001b[38;5;124m'\u001b[39m\u001b[38;5;124mdischarge_disposition_id\u001b[39m\u001b[38;5;124m'\u001b[39m, \u001b[38;5;124m'\u001b[39m\u001b[38;5;124madmission_source_id\u001b[39m\u001b[38;5;124m'\u001b[39m]\n",
      "File \u001b[1;32mc:\\Users\\PapaDay\\anaconda3\\Lib\\site-packages\\pandas\\core\\reshape\\encoding.py:164\u001b[0m, in \u001b[0;36mget_dummies\u001b[1;34m(data, prefix, prefix_sep, dummy_na, columns, sparse, drop_first, dtype)\u001b[0m\n\u001b[0;32m    162\u001b[0m     \u001b[38;5;28;01mraise\u001b[39;00m \u001b[38;5;167;01mTypeError\u001b[39;00m(\u001b[38;5;124m\"\u001b[39m\u001b[38;5;124mInput must be a list-like for parameter `columns`\u001b[39m\u001b[38;5;124m\"\u001b[39m)\n\u001b[0;32m    163\u001b[0m \u001b[38;5;28;01melse\u001b[39;00m:\n\u001b[1;32m--> 164\u001b[0m     data_to_encode \u001b[38;5;241m=\u001b[39m data[columns]\n\u001b[0;32m    166\u001b[0m \u001b[38;5;66;03m# validate prefixes and separator to avoid silently dropping cols\u001b[39;00m\n\u001b[0;32m    167\u001b[0m \u001b[38;5;28;01mdef\u001b[39;00m \u001b[38;5;21mcheck_len\u001b[39m(item, name: \u001b[38;5;28mstr\u001b[39m):\n",
      "File \u001b[1;32mc:\\Users\\PapaDay\\anaconda3\\Lib\\site-packages\\pandas\\core\\frame.py:3899\u001b[0m, in \u001b[0;36mDataFrame.__getitem__\u001b[1;34m(self, key)\u001b[0m\n\u001b[0;32m   3897\u001b[0m     \u001b[38;5;28;01mif\u001b[39;00m is_iterator(key):\n\u001b[0;32m   3898\u001b[0m         key \u001b[38;5;241m=\u001b[39m \u001b[38;5;28mlist\u001b[39m(key)\n\u001b[1;32m-> 3899\u001b[0m     indexer \u001b[38;5;241m=\u001b[39m \u001b[38;5;28mself\u001b[39m\u001b[38;5;241m.\u001b[39mcolumns\u001b[38;5;241m.\u001b[39m_get_indexer_strict(key, \u001b[38;5;124m\"\u001b[39m\u001b[38;5;124mcolumns\u001b[39m\u001b[38;5;124m\"\u001b[39m)[\u001b[38;5;241m1\u001b[39m]\n\u001b[0;32m   3901\u001b[0m \u001b[38;5;66;03m# take() does not accept boolean indexers\u001b[39;00m\n\u001b[0;32m   3902\u001b[0m \u001b[38;5;28;01mif\u001b[39;00m \u001b[38;5;28mgetattr\u001b[39m(indexer, \u001b[38;5;124m\"\u001b[39m\u001b[38;5;124mdtype\u001b[39m\u001b[38;5;124m\"\u001b[39m, \u001b[38;5;28;01mNone\u001b[39;00m) \u001b[38;5;241m==\u001b[39m \u001b[38;5;28mbool\u001b[39m:\n",
      "File \u001b[1;32mc:\\Users\\PapaDay\\anaconda3\\Lib\\site-packages\\pandas\\core\\indexes\\base.py:6115\u001b[0m, in \u001b[0;36mIndex._get_indexer_strict\u001b[1;34m(self, key, axis_name)\u001b[0m\n\u001b[0;32m   6112\u001b[0m \u001b[38;5;28;01melse\u001b[39;00m:\n\u001b[0;32m   6113\u001b[0m     keyarr, indexer, new_indexer \u001b[38;5;241m=\u001b[39m \u001b[38;5;28mself\u001b[39m\u001b[38;5;241m.\u001b[39m_reindex_non_unique(keyarr)\n\u001b[1;32m-> 6115\u001b[0m \u001b[38;5;28mself\u001b[39m\u001b[38;5;241m.\u001b[39m_raise_if_missing(keyarr, indexer, axis_name)\n\u001b[0;32m   6117\u001b[0m keyarr \u001b[38;5;241m=\u001b[39m \u001b[38;5;28mself\u001b[39m\u001b[38;5;241m.\u001b[39mtake(indexer)\n\u001b[0;32m   6118\u001b[0m \u001b[38;5;28;01mif\u001b[39;00m \u001b[38;5;28misinstance\u001b[39m(key, Index):\n\u001b[0;32m   6119\u001b[0m     \u001b[38;5;66;03m# GH 42790 - Preserve name from an Index\u001b[39;00m\n",
      "File \u001b[1;32mc:\\Users\\PapaDay\\anaconda3\\Lib\\site-packages\\pandas\\core\\indexes\\base.py:6179\u001b[0m, in \u001b[0;36mIndex._raise_if_missing\u001b[1;34m(self, key, indexer, axis_name)\u001b[0m\n\u001b[0;32m   6176\u001b[0m     \u001b[38;5;28;01mraise\u001b[39;00m \u001b[38;5;167;01mKeyError\u001b[39;00m(\u001b[38;5;124mf\u001b[39m\u001b[38;5;124m\"\u001b[39m\u001b[38;5;124mNone of [\u001b[39m\u001b[38;5;132;01m{\u001b[39;00mkey\u001b[38;5;132;01m}\u001b[39;00m\u001b[38;5;124m] are in the [\u001b[39m\u001b[38;5;132;01m{\u001b[39;00maxis_name\u001b[38;5;132;01m}\u001b[39;00m\u001b[38;5;124m]\u001b[39m\u001b[38;5;124m\"\u001b[39m)\n\u001b[0;32m   6178\u001b[0m not_found \u001b[38;5;241m=\u001b[39m \u001b[38;5;28mlist\u001b[39m(ensure_index(key)[missing_mask\u001b[38;5;241m.\u001b[39mnonzero()[\u001b[38;5;241m0\u001b[39m]]\u001b[38;5;241m.\u001b[39munique())\n\u001b[1;32m-> 6179\u001b[0m \u001b[38;5;28;01mraise\u001b[39;00m \u001b[38;5;167;01mKeyError\u001b[39;00m(\u001b[38;5;124mf\u001b[39m\u001b[38;5;124m\"\u001b[39m\u001b[38;5;132;01m{\u001b[39;00mnot_found\u001b[38;5;132;01m}\u001b[39;00m\u001b[38;5;124m not in index\u001b[39m\u001b[38;5;124m\"\u001b[39m)\n",
      "\u001b[1;31mKeyError\u001b[0m: \"['admission_type'] not in index\""
     ]
    }
   ],
   "source": [
    "# Encoding categorical features\n",
    "from sklearn.preprocessing import LabelEncoder\n",
    "\n",
    "# --- 1. One-Hot Encode Nominal Categorical Columns ---\n",
    "one_hot_cols = [\n",
    "    'gender',\n",
    "    'race',\n",
    "    'admission_type',           # You must map admission_type_id to labels first if not done\n",
    "    'hospital_stay_group',\n",
    "    'diag_1_category',\n",
    "    'diag_2_category',\n",
    "    'diag_3_category'\n",
    "]\n",
    "\n",
    "# Safely apply one-hot encoding using pandas\n",
    "diabetes = pd.get_dummies(diabetes, columns=one_hot_cols, drop_first=True)\n",
    "\n",
    "# --- 2. Label Encode High-Cardinality or Numeric-Coded Categorical Columns ---\n",
    "label_cols = ['medical_specialty', 'discharge_disposition_id', 'admission_source_id']\n",
    "le = LabelEncoder()\n",
    "\n",
    "for col in label_cols:\n",
    "    diabetes[col] = le.fit_transform(diabetes[col].astype(str))  # ensure strings\n",
    "\n"
   ]
  },
  {
   "cell_type": "code",
   "execution_count": 33,
   "id": "0e035780",
   "metadata": {},
   "outputs": [
    {
     "data": {
      "application/vnd.microsoft.datawrangler.viewer.v0+json": {
       "columns": [
        {
         "name": "index",
         "rawType": "int64",
         "type": "integer"
        },
        {
         "name": "admission_type_id",
         "rawType": "int64",
         "type": "integer"
        }
       ],
       "ref": "ff039ed9-0579-42b0-a1f3-8a42f9774b72",
       "rows": [
        [
         "0",
         "6"
        ],
        [
         "1",
         "1"
        ],
        [
         "2",
         "1"
        ],
        [
         "3",
         "1"
        ],
        [
         "4",
         "1"
        ],
        [
         "5",
         "2"
        ],
        [
         "6",
         "3"
        ],
        [
         "7",
         "1"
        ],
        [
         "8",
         "2"
        ],
        [
         "9",
         "3"
        ],
        [
         "10",
         "1"
        ],
        [
         "11",
         "2"
        ],
        [
         "12",
         "1"
        ],
        [
         "13",
         "1"
        ],
        [
         "14",
         "3"
        ],
        [
         "15",
         "1"
        ],
        [
         "16",
         "1"
        ],
        [
         "17",
         "1"
        ],
        [
         "18",
         "1"
        ],
        [
         "19",
         "3"
        ],
        [
         "20",
         "2"
        ],
        [
         "21",
         "2"
        ],
        [
         "22",
         "2"
        ],
        [
         "23",
         "2"
        ],
        [
         "24",
         "3"
        ],
        [
         "25",
         "1"
        ],
        [
         "26",
         "1"
        ],
        [
         "27",
         "1"
        ],
        [
         "28",
         "2"
        ],
        [
         "29",
         "1"
        ],
        [
         "30",
         "1"
        ],
        [
         "31",
         "1"
        ],
        [
         "32",
         "1"
        ],
        [
         "33",
         "2"
        ],
        [
         "34",
         "2"
        ],
        [
         "35",
         "1"
        ],
        [
         "36",
         "3"
        ],
        [
         "37",
         "1"
        ],
        [
         "38",
         "1"
        ],
        [
         "39",
         "2"
        ],
        [
         "40",
         "1"
        ],
        [
         "41",
         "2"
        ],
        [
         "42",
         "2"
        ],
        [
         "43",
         "1"
        ],
        [
         "44",
         "1"
        ],
        [
         "45",
         "3"
        ],
        [
         "46",
         "3"
        ],
        [
         "47",
         "3"
        ],
        [
         "48",
         "3"
        ],
        [
         "49",
         "2"
        ]
       ],
       "shape": {
        "columns": 1,
        "rows": 101766
       }
      },
      "text/plain": [
       "0         6\n",
       "1         1\n",
       "2         1\n",
       "3         1\n",
       "4         1\n",
       "         ..\n",
       "101761    1\n",
       "101762    1\n",
       "101763    1\n",
       "101764    2\n",
       "101765    1\n",
       "Name: admission_type_id, Length: 101766, dtype: int64"
      ]
     },
     "execution_count": 33,
     "metadata": {},
     "output_type": "execute_result"
    }
   ],
   "source": [
    "diabetes[\"admission_type_id\"]"
   ]
  },
  {
   "cell_type": "code",
   "execution_count": null,
   "id": "10f754fe",
   "metadata": {},
   "outputs": [],
   "source": []
  }
 ],
 "metadata": {
  "kernelspec": {
   "display_name": "base",
   "language": "python",
   "name": "python3"
  },
  "language_info": {
   "codemirror_mode": {
    "name": "ipython",
    "version": 3
   },
   "file_extension": ".py",
   "mimetype": "text/x-python",
   "name": "python",
   "nbconvert_exporter": "python",
   "pygments_lexer": "ipython3",
   "version": "3.11.7"
  }
 },
 "nbformat": 4,
 "nbformat_minor": 5
}
