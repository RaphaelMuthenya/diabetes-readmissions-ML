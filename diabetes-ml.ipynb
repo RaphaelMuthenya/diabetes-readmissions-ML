{
 "cells": [
  {
   "cell_type": "markdown",
   "metadata": {},
   "source": [
    "## Predicting Early Readmission in Diabetic Patients"
   ]
  },
  {
   "cell_type": "markdown",
   "metadata": {},
   "source": [
    "### Project Overview\n",
    "This project analyzes ten years (1999–2008) of clinical care data from 130 US hospitals and integrated delivery networks. The dataset focuses on diabetic patients who received inpatient care—including lab work, medications, and short hospital stays (up to 14 days). The goal is to predict whether a patient will be readmitted within 30 days of discharge.\n",
    "\n",
    "#### Why This Matters\n",
    "Think of it like this: If someone with diabetes goes to the hospital and is sent home too early or without the right care, they might get worse and have to come back. That’s bad for their health and expensive for everyone involved.\n",
    "\n",
    "This research helps us figure out how to prevent that from happening in the first place.\n",
    "\n",
    "Even though we know how to improve outcomes for diabetic patients, many still don’t receive proper care during their hospital stay. This project aims to highlight patterns in the data that can be used to flag high-risk patients before discharge—so hospitals can intervene early and reduce unnecessary readmissions.\n",
    "\n"
   ]
  },
  {
   "cell_type": "markdown",
   "metadata": {},
   "source": [
    "### Objectives\n",
    "1. Explore and clean real-world hospital data\n",
    "\n",
    "2. Identify key features influencing early readmission\n",
    "\n",
    "3. Train and evaluate machine learning models to predict readmission risk\n",
    "\n",
    "4. Provide insights to help improve diabetic patient care and hospital efficiency\n",
    "\n"
   ]
  },
  {
   "cell_type": "markdown",
   "metadata": {},
   "source": [
    "### Dataset\n",
    "Source: UCI Machine Learning Repository - Diabetes 130-US hospitals dataset\n",
    "\n",
    "Size: 100,000+ patient records\n",
    "\n",
    "Features include demographics, lab tests, medications, diagnosis codes, length of stay, and discharge outcomes\n",
    "\n",
    "The final model can help hospitals:\n",
    "\n",
    "Identify patients at risk of early readmission\n",
    "\n",
    "Improve discharge planning and follow-up care\n",
    "\n",
    "Reduce healthcare costs and improve patient outcomes\n",
    "\n"
   ]
  },
  {
   "cell_type": "code",
   "execution_count": 1,
   "metadata": {},
   "outputs": [],
   "source": [
    "import pandas as pd\n",
    "import numpy as np\n",
    "import matplotlib.pyplot as plt\n",
    "import seaborn as sns\n",
    "\n",
    "# Display settings\n",
    "pd.set_option('display.max_columns', None)\n",
    "sns.set(style='whitegrid')"
   ]
  },
  {
   "cell_type": "code",
   "execution_count": 2,
   "metadata": {},
   "outputs": [
    {
     "data": {
      "text/plain": [
       "(101766, 50)"
      ]
     },
     "execution_count": 2,
     "metadata": {},
     "output_type": "execute_result"
    }
   ],
   "source": [
    "diabetes = pd.read_csv('diabetic_data.csv')\n",
    "diabetes.shape"
   ]
  },
  {
   "cell_type": "markdown",
   "metadata": {},
   "source": [
    "Let us check out the state of our dataset."
   ]
  },
  {
   "cell_type": "code",
   "execution_count": 3,
   "metadata": {},
   "outputs": [
    {
     "data": {
      "text/html": [
       "<div>\n",
       "<style scoped>\n",
       "    .dataframe tbody tr th:only-of-type {\n",
       "        vertical-align: middle;\n",
       "    }\n",
       "\n",
       "    .dataframe tbody tr th {\n",
       "        vertical-align: top;\n",
       "    }\n",
       "\n",
       "    .dataframe thead th {\n",
       "        text-align: right;\n",
       "    }\n",
       "</style>\n",
       "<table border=\"1\" class=\"dataframe\">\n",
       "  <thead>\n",
       "    <tr style=\"text-align: right;\">\n",
       "      <th></th>\n",
       "      <th>encounter_id</th>\n",
       "      <th>patient_nbr</th>\n",
       "      <th>race</th>\n",
       "      <th>gender</th>\n",
       "      <th>age</th>\n",
       "      <th>weight</th>\n",
       "      <th>admission_type_id</th>\n",
       "      <th>discharge_disposition_id</th>\n",
       "      <th>admission_source_id</th>\n",
       "      <th>time_in_hospital</th>\n",
       "      <th>payer_code</th>\n",
       "      <th>medical_specialty</th>\n",
       "      <th>num_lab_procedures</th>\n",
       "      <th>num_procedures</th>\n",
       "      <th>num_medications</th>\n",
       "      <th>number_outpatient</th>\n",
       "      <th>number_emergency</th>\n",
       "      <th>number_inpatient</th>\n",
       "      <th>diag_1</th>\n",
       "      <th>diag_2</th>\n",
       "      <th>diag_3</th>\n",
       "      <th>number_diagnoses</th>\n",
       "      <th>max_glu_serum</th>\n",
       "      <th>A1Cresult</th>\n",
       "      <th>metformin</th>\n",
       "      <th>repaglinide</th>\n",
       "      <th>nateglinide</th>\n",
       "      <th>chlorpropamide</th>\n",
       "      <th>glimepiride</th>\n",
       "      <th>acetohexamide</th>\n",
       "      <th>glipizide</th>\n",
       "      <th>glyburide</th>\n",
       "      <th>tolbutamide</th>\n",
       "      <th>pioglitazone</th>\n",
       "      <th>rosiglitazone</th>\n",
       "      <th>acarbose</th>\n",
       "      <th>miglitol</th>\n",
       "      <th>troglitazone</th>\n",
       "      <th>tolazamide</th>\n",
       "      <th>examide</th>\n",
       "      <th>citoglipton</th>\n",
       "      <th>insulin</th>\n",
       "      <th>glyburide-metformin</th>\n",
       "      <th>glipizide-metformin</th>\n",
       "      <th>glimepiride-pioglitazone</th>\n",
       "      <th>metformin-rosiglitazone</th>\n",
       "      <th>metformin-pioglitazone</th>\n",
       "      <th>change</th>\n",
       "      <th>diabetesMed</th>\n",
       "      <th>readmitted</th>\n",
       "    </tr>\n",
       "  </thead>\n",
       "  <tbody>\n",
       "    <tr>\n",
       "      <th>0</th>\n",
       "      <td>2278392</td>\n",
       "      <td>8222157</td>\n",
       "      <td>Caucasian</td>\n",
       "      <td>Female</td>\n",
       "      <td>[0-10)</td>\n",
       "      <td>?</td>\n",
       "      <td>6</td>\n",
       "      <td>25</td>\n",
       "      <td>1</td>\n",
       "      <td>1</td>\n",
       "      <td>?</td>\n",
       "      <td>Pediatrics-Endocrinology</td>\n",
       "      <td>41</td>\n",
       "      <td>0</td>\n",
       "      <td>1</td>\n",
       "      <td>0</td>\n",
       "      <td>0</td>\n",
       "      <td>0</td>\n",
       "      <td>250.83</td>\n",
       "      <td>?</td>\n",
       "      <td>?</td>\n",
       "      <td>1</td>\n",
       "      <td>None</td>\n",
       "      <td>None</td>\n",
       "      <td>No</td>\n",
       "      <td>No</td>\n",
       "      <td>No</td>\n",
       "      <td>No</td>\n",
       "      <td>No</td>\n",
       "      <td>No</td>\n",
       "      <td>No</td>\n",
       "      <td>No</td>\n",
       "      <td>No</td>\n",
       "      <td>No</td>\n",
       "      <td>No</td>\n",
       "      <td>No</td>\n",
       "      <td>No</td>\n",
       "      <td>No</td>\n",
       "      <td>No</td>\n",
       "      <td>No</td>\n",
       "      <td>No</td>\n",
       "      <td>No</td>\n",
       "      <td>No</td>\n",
       "      <td>No</td>\n",
       "      <td>No</td>\n",
       "      <td>No</td>\n",
       "      <td>No</td>\n",
       "      <td>No</td>\n",
       "      <td>No</td>\n",
       "      <td>NO</td>\n",
       "    </tr>\n",
       "    <tr>\n",
       "      <th>1</th>\n",
       "      <td>149190</td>\n",
       "      <td>55629189</td>\n",
       "      <td>Caucasian</td>\n",
       "      <td>Female</td>\n",
       "      <td>[10-20)</td>\n",
       "      <td>?</td>\n",
       "      <td>1</td>\n",
       "      <td>1</td>\n",
       "      <td>7</td>\n",
       "      <td>3</td>\n",
       "      <td>?</td>\n",
       "      <td>?</td>\n",
       "      <td>59</td>\n",
       "      <td>0</td>\n",
       "      <td>18</td>\n",
       "      <td>0</td>\n",
       "      <td>0</td>\n",
       "      <td>0</td>\n",
       "      <td>276</td>\n",
       "      <td>250.01</td>\n",
       "      <td>255</td>\n",
       "      <td>9</td>\n",
       "      <td>None</td>\n",
       "      <td>None</td>\n",
       "      <td>No</td>\n",
       "      <td>No</td>\n",
       "      <td>No</td>\n",
       "      <td>No</td>\n",
       "      <td>No</td>\n",
       "      <td>No</td>\n",
       "      <td>No</td>\n",
       "      <td>No</td>\n",
       "      <td>No</td>\n",
       "      <td>No</td>\n",
       "      <td>No</td>\n",
       "      <td>No</td>\n",
       "      <td>No</td>\n",
       "      <td>No</td>\n",
       "      <td>No</td>\n",
       "      <td>No</td>\n",
       "      <td>No</td>\n",
       "      <td>Up</td>\n",
       "      <td>No</td>\n",
       "      <td>No</td>\n",
       "      <td>No</td>\n",
       "      <td>No</td>\n",
       "      <td>No</td>\n",
       "      <td>Ch</td>\n",
       "      <td>Yes</td>\n",
       "      <td>&gt;30</td>\n",
       "    </tr>\n",
       "    <tr>\n",
       "      <th>2</th>\n",
       "      <td>64410</td>\n",
       "      <td>86047875</td>\n",
       "      <td>AfricanAmerican</td>\n",
       "      <td>Female</td>\n",
       "      <td>[20-30)</td>\n",
       "      <td>?</td>\n",
       "      <td>1</td>\n",
       "      <td>1</td>\n",
       "      <td>7</td>\n",
       "      <td>2</td>\n",
       "      <td>?</td>\n",
       "      <td>?</td>\n",
       "      <td>11</td>\n",
       "      <td>5</td>\n",
       "      <td>13</td>\n",
       "      <td>2</td>\n",
       "      <td>0</td>\n",
       "      <td>1</td>\n",
       "      <td>648</td>\n",
       "      <td>250</td>\n",
       "      <td>V27</td>\n",
       "      <td>6</td>\n",
       "      <td>None</td>\n",
       "      <td>None</td>\n",
       "      <td>No</td>\n",
       "      <td>No</td>\n",
       "      <td>No</td>\n",
       "      <td>No</td>\n",
       "      <td>No</td>\n",
       "      <td>No</td>\n",
       "      <td>Steady</td>\n",
       "      <td>No</td>\n",
       "      <td>No</td>\n",
       "      <td>No</td>\n",
       "      <td>No</td>\n",
       "      <td>No</td>\n",
       "      <td>No</td>\n",
       "      <td>No</td>\n",
       "      <td>No</td>\n",
       "      <td>No</td>\n",
       "      <td>No</td>\n",
       "      <td>No</td>\n",
       "      <td>No</td>\n",
       "      <td>No</td>\n",
       "      <td>No</td>\n",
       "      <td>No</td>\n",
       "      <td>No</td>\n",
       "      <td>No</td>\n",
       "      <td>Yes</td>\n",
       "      <td>NO</td>\n",
       "    </tr>\n",
       "    <tr>\n",
       "      <th>3</th>\n",
       "      <td>500364</td>\n",
       "      <td>82442376</td>\n",
       "      <td>Caucasian</td>\n",
       "      <td>Male</td>\n",
       "      <td>[30-40)</td>\n",
       "      <td>?</td>\n",
       "      <td>1</td>\n",
       "      <td>1</td>\n",
       "      <td>7</td>\n",
       "      <td>2</td>\n",
       "      <td>?</td>\n",
       "      <td>?</td>\n",
       "      <td>44</td>\n",
       "      <td>1</td>\n",
       "      <td>16</td>\n",
       "      <td>0</td>\n",
       "      <td>0</td>\n",
       "      <td>0</td>\n",
       "      <td>8</td>\n",
       "      <td>250.43</td>\n",
       "      <td>403</td>\n",
       "      <td>7</td>\n",
       "      <td>None</td>\n",
       "      <td>None</td>\n",
       "      <td>No</td>\n",
       "      <td>No</td>\n",
       "      <td>No</td>\n",
       "      <td>No</td>\n",
       "      <td>No</td>\n",
       "      <td>No</td>\n",
       "      <td>No</td>\n",
       "      <td>No</td>\n",
       "      <td>No</td>\n",
       "      <td>No</td>\n",
       "      <td>No</td>\n",
       "      <td>No</td>\n",
       "      <td>No</td>\n",
       "      <td>No</td>\n",
       "      <td>No</td>\n",
       "      <td>No</td>\n",
       "      <td>No</td>\n",
       "      <td>Up</td>\n",
       "      <td>No</td>\n",
       "      <td>No</td>\n",
       "      <td>No</td>\n",
       "      <td>No</td>\n",
       "      <td>No</td>\n",
       "      <td>Ch</td>\n",
       "      <td>Yes</td>\n",
       "      <td>NO</td>\n",
       "    </tr>\n",
       "    <tr>\n",
       "      <th>4</th>\n",
       "      <td>16680</td>\n",
       "      <td>42519267</td>\n",
       "      <td>Caucasian</td>\n",
       "      <td>Male</td>\n",
       "      <td>[40-50)</td>\n",
       "      <td>?</td>\n",
       "      <td>1</td>\n",
       "      <td>1</td>\n",
       "      <td>7</td>\n",
       "      <td>1</td>\n",
       "      <td>?</td>\n",
       "      <td>?</td>\n",
       "      <td>51</td>\n",
       "      <td>0</td>\n",
       "      <td>8</td>\n",
       "      <td>0</td>\n",
       "      <td>0</td>\n",
       "      <td>0</td>\n",
       "      <td>197</td>\n",
       "      <td>157</td>\n",
       "      <td>250</td>\n",
       "      <td>5</td>\n",
       "      <td>None</td>\n",
       "      <td>None</td>\n",
       "      <td>No</td>\n",
       "      <td>No</td>\n",
       "      <td>No</td>\n",
       "      <td>No</td>\n",
       "      <td>No</td>\n",
       "      <td>No</td>\n",
       "      <td>Steady</td>\n",
       "      <td>No</td>\n",
       "      <td>No</td>\n",
       "      <td>No</td>\n",
       "      <td>No</td>\n",
       "      <td>No</td>\n",
       "      <td>No</td>\n",
       "      <td>No</td>\n",
       "      <td>No</td>\n",
       "      <td>No</td>\n",
       "      <td>No</td>\n",
       "      <td>Steady</td>\n",
       "      <td>No</td>\n",
       "      <td>No</td>\n",
       "      <td>No</td>\n",
       "      <td>No</td>\n",
       "      <td>No</td>\n",
       "      <td>Ch</td>\n",
       "      <td>Yes</td>\n",
       "      <td>NO</td>\n",
       "    </tr>\n",
       "  </tbody>\n",
       "</table>\n",
       "</div>"
      ],
      "text/plain": [
       "   encounter_id  patient_nbr             race  gender      age weight  \\\n",
       "0       2278392      8222157        Caucasian  Female   [0-10)      ?   \n",
       "1        149190     55629189        Caucasian  Female  [10-20)      ?   \n",
       "2         64410     86047875  AfricanAmerican  Female  [20-30)      ?   \n",
       "3        500364     82442376        Caucasian    Male  [30-40)      ?   \n",
       "4         16680     42519267        Caucasian    Male  [40-50)      ?   \n",
       "\n",
       "   admission_type_id  discharge_disposition_id  admission_source_id  \\\n",
       "0                  6                        25                    1   \n",
       "1                  1                         1                    7   \n",
       "2                  1                         1                    7   \n",
       "3                  1                         1                    7   \n",
       "4                  1                         1                    7   \n",
       "\n",
       "   time_in_hospital payer_code         medical_specialty  num_lab_procedures  \\\n",
       "0                 1          ?  Pediatrics-Endocrinology                  41   \n",
       "1                 3          ?                         ?                  59   \n",
       "2                 2          ?                         ?                  11   \n",
       "3                 2          ?                         ?                  44   \n",
       "4                 1          ?                         ?                  51   \n",
       "\n",
       "   num_procedures  num_medications  number_outpatient  number_emergency  \\\n",
       "0               0                1                  0                 0   \n",
       "1               0               18                  0                 0   \n",
       "2               5               13                  2                 0   \n",
       "3               1               16                  0                 0   \n",
       "4               0                8                  0                 0   \n",
       "\n",
       "   number_inpatient  diag_1  diag_2 diag_3  number_diagnoses max_glu_serum  \\\n",
       "0                 0  250.83       ?      ?                 1          None   \n",
       "1                 0     276  250.01    255                 9          None   \n",
       "2                 1     648     250    V27                 6          None   \n",
       "3                 0       8  250.43    403                 7          None   \n",
       "4                 0     197     157    250                 5          None   \n",
       "\n",
       "  A1Cresult metformin repaglinide nateglinide chlorpropamide glimepiride  \\\n",
       "0      None        No          No          No             No          No   \n",
       "1      None        No          No          No             No          No   \n",
       "2      None        No          No          No             No          No   \n",
       "3      None        No          No          No             No          No   \n",
       "4      None        No          No          No             No          No   \n",
       "\n",
       "  acetohexamide glipizide glyburide tolbutamide pioglitazone rosiglitazone  \\\n",
       "0            No        No        No          No           No            No   \n",
       "1            No        No        No          No           No            No   \n",
       "2            No    Steady        No          No           No            No   \n",
       "3            No        No        No          No           No            No   \n",
       "4            No    Steady        No          No           No            No   \n",
       "\n",
       "  acarbose miglitol troglitazone tolazamide examide citoglipton insulin  \\\n",
       "0       No       No           No         No      No          No      No   \n",
       "1       No       No           No         No      No          No      Up   \n",
       "2       No       No           No         No      No          No      No   \n",
       "3       No       No           No         No      No          No      Up   \n",
       "4       No       No           No         No      No          No  Steady   \n",
       "\n",
       "  glyburide-metformin glipizide-metformin glimepiride-pioglitazone  \\\n",
       "0                  No                  No                       No   \n",
       "1                  No                  No                       No   \n",
       "2                  No                  No                       No   \n",
       "3                  No                  No                       No   \n",
       "4                  No                  No                       No   \n",
       "\n",
       "  metformin-rosiglitazone metformin-pioglitazone change diabetesMed readmitted  \n",
       "0                      No                     No     No          No         NO  \n",
       "1                      No                     No     Ch         Yes        >30  \n",
       "2                      No                     No     No         Yes         NO  \n",
       "3                      No                     No     Ch         Yes         NO  \n",
       "4                      No                     No     Ch         Yes         NO  "
      ]
     },
     "execution_count": 3,
     "metadata": {},
     "output_type": "execute_result"
    }
   ],
   "source": [
    "diabetes.head()"
   ]
  },
  {
   "cell_type": "code",
   "execution_count": 4,
   "metadata": {},
   "outputs": [
    {
     "data": {
      "text/plain": [
       "encounter_id                0\n",
       "patient_nbr                 0\n",
       "race                        0\n",
       "gender                      0\n",
       "age                         0\n",
       "weight                      0\n",
       "admission_type_id           0\n",
       "discharge_disposition_id    0\n",
       "admission_source_id         0\n",
       "time_in_hospital            0\n",
       "payer_code                  0\n",
       "medical_specialty           0\n",
       "num_lab_procedures          0\n",
       "num_procedures              0\n",
       "num_medications             0\n",
       "number_outpatient           0\n",
       "number_emergency            0\n",
       "number_inpatient            0\n",
       "diag_1                      0\n",
       "diag_2                      0\n",
       "diag_3                      0\n",
       "number_diagnoses            0\n",
       "max_glu_serum               0\n",
       "A1Cresult                   0\n",
       "metformin                   0\n",
       "repaglinide                 0\n",
       "nateglinide                 0\n",
       "chlorpropamide              0\n",
       "glimepiride                 0\n",
       "acetohexamide               0\n",
       "glipizide                   0\n",
       "glyburide                   0\n",
       "tolbutamide                 0\n",
       "pioglitazone                0\n",
       "rosiglitazone               0\n",
       "acarbose                    0\n",
       "miglitol                    0\n",
       "troglitazone                0\n",
       "tolazamide                  0\n",
       "examide                     0\n",
       "citoglipton                 0\n",
       "insulin                     0\n",
       "glyburide-metformin         0\n",
       "glipizide-metformin         0\n",
       "glimepiride-pioglitazone    0\n",
       "metformin-rosiglitazone     0\n",
       "metformin-pioglitazone      0\n",
       "change                      0\n",
       "diabetesMed                 0\n",
       "readmitted                  0\n",
       "dtype: int64"
      ]
     },
     "execution_count": 4,
     "metadata": {},
     "output_type": "execute_result"
    }
   ],
   "source": [
    "diabetes.isnull().sum()"
   ]
  },
  {
   "cell_type": "markdown",
   "metadata": {},
   "source": [
    "The data could be having \"?\" as a place filler for null values."
   ]
  },
  {
   "cell_type": "code",
   "execution_count": 5,
   "metadata": {},
   "outputs": [
    {
     "data": {
      "text/plain": [
       "weight                      98569\n",
       "medical_specialty           49949\n",
       "payer_code                  40256\n",
       "race                         2273\n",
       "diag_3                       1423\n",
       "diag_2                        358\n",
       "diag_1                         21\n",
       "num_procedures                  0\n",
       "max_glu_serum                   0\n",
       "number_diagnoses                0\n",
       "number_inpatient                0\n",
       "number_emergency                0\n",
       "number_outpatient               0\n",
       "num_medications                 0\n",
       "readmitted                      0\n",
       "num_lab_procedures              0\n",
       "diabetesMed                     0\n",
       "time_in_hospital                0\n",
       "admission_source_id             0\n",
       "discharge_disposition_id        0\n",
       "admission_type_id               0\n",
       "age                             0\n",
       "gender                          0\n",
       "patient_nbr                     0\n",
       "A1Cresult                       0\n",
       "metformin                       0\n",
       "repaglinide                     0\n",
       "nateglinide                     0\n",
       "change                          0\n",
       "metformin-pioglitazone          0\n",
       "metformin-rosiglitazone         0\n",
       "glimepiride-pioglitazone        0\n",
       "glipizide-metformin             0\n",
       "glyburide-metformin             0\n",
       "insulin                         0\n",
       "citoglipton                     0\n",
       "examide                         0\n",
       "tolazamide                      0\n",
       "troglitazone                    0\n",
       "miglitol                        0\n",
       "acarbose                        0\n",
       "rosiglitazone                   0\n",
       "pioglitazone                    0\n",
       "tolbutamide                     0\n",
       "glyburide                       0\n",
       "glipizide                       0\n",
       "acetohexamide                   0\n",
       "glimepiride                     0\n",
       "chlorpropamide                  0\n",
       "encounter_id                    0\n",
       "dtype: int64"
      ]
     },
     "execution_count": 5,
     "metadata": {},
     "output_type": "execute_result"
    }
   ],
   "source": [
    "diabetes.apply(lambda col: (col == '?').sum()).sort_values(ascending=False)\n"
   ]
  },
  {
   "cell_type": "code",
   "execution_count": 6,
   "metadata": {},
   "outputs": [],
   "source": [
    "diabetes.replace('?', np.nan, inplace=True)"
   ]
  },
  {
   "cell_type": "markdown",
   "metadata": {},
   "source": [
    "Let us check categorical columns with many unique values"
   ]
  },
  {
   "cell_type": "code",
   "execution_count": 7,
   "metadata": {},
   "outputs": [
    {
     "name": "stdout",
     "output_type": "stream",
     "text": [
      "race: ['Caucasian' 'AfricanAmerican' nan 'Other' 'Asian' 'Hispanic']\n",
      "gender: ['Female' 'Male' 'Unknown/Invalid']\n",
      "age: ['[0-10)' '[10-20)' '[20-30)' '[30-40)' '[40-50)' '[50-60)' '[60-70)'\n",
      " '[70-80)' '[80-90)' '[90-100)']\n",
      "weight: [nan '[75-100)' '[50-75)' '[0-25)' '[100-125)' '[25-50)' '[125-150)'\n",
      " '[175-200)' '[150-175)' '>200']\n",
      "payer_code: [nan 'MC' 'MD' 'HM' 'UN' 'BC' 'SP' 'CP' 'SI' 'DM' 'CM' 'CH' 'PO' 'WC' 'OT'\n",
      " 'OG' 'MP' 'FR']\n",
      "max_glu_serum: ['None' '>300' 'Norm' '>200']\n",
      "A1Cresult: ['None' '>7' '>8' 'Norm']\n",
      "metformin: ['No' 'Steady' 'Up' 'Down']\n",
      "repaglinide: ['No' 'Up' 'Steady' 'Down']\n",
      "nateglinide: ['No' 'Steady' 'Down' 'Up']\n",
      "chlorpropamide: ['No' 'Steady' 'Down' 'Up']\n",
      "glimepiride: ['No' 'Steady' 'Down' 'Up']\n",
      "acetohexamide: ['No' 'Steady']\n",
      "glipizide: ['No' 'Steady' 'Up' 'Down']\n",
      "glyburide: ['No' 'Steady' 'Up' 'Down']\n",
      "tolbutamide: ['No' 'Steady']\n",
      "pioglitazone: ['No' 'Steady' 'Up' 'Down']\n",
      "rosiglitazone: ['No' 'Steady' 'Up' 'Down']\n",
      "acarbose: ['No' 'Steady' 'Up' 'Down']\n",
      "miglitol: ['No' 'Steady' 'Down' 'Up']\n",
      "troglitazone: ['No' 'Steady']\n",
      "tolazamide: ['No' 'Steady' 'Up']\n",
      "examide: ['No']\n",
      "citoglipton: ['No']\n",
      "insulin: ['No' 'Up' 'Steady' 'Down']\n",
      "glyburide-metformin: ['No' 'Steady' 'Down' 'Up']\n",
      "glipizide-metformin: ['No' 'Steady']\n",
      "glimepiride-pioglitazone: ['No' 'Steady']\n",
      "metformin-rosiglitazone: ['No' 'Steady']\n",
      "metformin-pioglitazone: ['No' 'Steady']\n",
      "change: ['No' 'Ch']\n",
      "diabetesMed: ['No' 'Yes']\n",
      "readmitted: ['NO' '>30' '<30']\n"
     ]
    }
   ],
   "source": [
    "for col in diabetes.columns:\n",
    "    if diabetes[col].dtype == 'object':\n",
    "        unique_vals = diabetes[col].nunique()\n",
    "        if unique_vals < 20:\n",
    "            print(f\"{col}: {diabetes[col].unique()}\")"
   ]
  },
  {
   "cell_type": "markdown",
   "metadata": {},
   "source": [
    "Since we will be looking at the readmitted coulumn, we can simplify it so that if Readmitted =\"<30\" we have a 1 if else we have a 0.(Yes or No)"
   ]
  },
  {
   "cell_type": "code",
   "execution_count": 8,
   "metadata": {},
   "outputs": [],
   "source": [
    "# Binary target: 1 if readmitted within 30 days, else 0\n",
    "diabetes['readmit_30'] = diabetes['readmitted'].apply(lambda x: 1 if x == '<30' else 0)"
   ]
  },
  {
   "cell_type": "code",
   "execution_count": 9,
   "metadata": {},
   "outputs": [],
   "source": [
    "diabetes.drop(['weight', 'payer_code', 'encounter_id', 'patient_nbr'], axis=1, inplace=True)"
   ]
  },
  {
   "cell_type": "code",
   "execution_count": 10,
   "metadata": {},
   "outputs": [
    {
     "data": {
      "text/plain": [
       "0"
      ]
     },
     "execution_count": 10,
     "metadata": {},
     "output_type": "execute_result"
    }
   ],
   "source": [
    "diabetes.duplicated().sum()"
   ]
  },
  {
   "cell_type": "code",
   "execution_count": 11,
   "metadata": {},
   "outputs": [
    {
     "data": {
      "text/plain": [
       "race                         2273\n",
       "gender                          0\n",
       "age                             0\n",
       "admission_type_id               0\n",
       "discharge_disposition_id        0\n",
       "admission_source_id             0\n",
       "time_in_hospital                0\n",
       "medical_specialty           49949\n",
       "num_lab_procedures              0\n",
       "num_procedures                  0\n",
       "num_medications                 0\n",
       "number_outpatient               0\n",
       "number_emergency                0\n",
       "number_inpatient                0\n",
       "diag_1                         21\n",
       "diag_2                        358\n",
       "diag_3                       1423\n",
       "number_diagnoses                0\n",
       "max_glu_serum                   0\n",
       "A1Cresult                       0\n",
       "metformin                       0\n",
       "repaglinide                     0\n",
       "nateglinide                     0\n",
       "chlorpropamide                  0\n",
       "glimepiride                     0\n",
       "acetohexamide                   0\n",
       "glipizide                       0\n",
       "glyburide                       0\n",
       "tolbutamide                     0\n",
       "pioglitazone                    0\n",
       "rosiglitazone                   0\n",
       "acarbose                        0\n",
       "miglitol                        0\n",
       "troglitazone                    0\n",
       "tolazamide                      0\n",
       "examide                         0\n",
       "citoglipton                     0\n",
       "insulin                         0\n",
       "glyburide-metformin             0\n",
       "glipizide-metformin             0\n",
       "glimepiride-pioglitazone        0\n",
       "metformin-rosiglitazone         0\n",
       "metformin-pioglitazone          0\n",
       "change                          0\n",
       "diabetesMed                     0\n",
       "readmitted                      0\n",
       "readmit_30                      0\n",
       "dtype: int64"
      ]
     },
     "execution_count": 11,
     "metadata": {},
     "output_type": "execute_result"
    }
   ],
   "source": [
    "diabetes.isnull().sum()"
   ]
  },
  {
   "cell_type": "code",
   "execution_count": 12,
   "metadata": {},
   "outputs": [],
   "source": [
    "diabetes['medical_specialty'].fillna('Unknown', inplace=True)\n",
    "diabetes['race'].fillna('Unknown', inplace=True)"
   ]
  },
  {
   "cell_type": "code",
   "execution_count": 13,
   "metadata": {},
   "outputs": [
    {
     "data": {
      "text/plain": [
       "race                           0\n",
       "gender                         0\n",
       "age                            0\n",
       "admission_type_id              0\n",
       "discharge_disposition_id       0\n",
       "admission_source_id            0\n",
       "time_in_hospital               0\n",
       "medical_specialty              0\n",
       "num_lab_procedures             0\n",
       "num_procedures                 0\n",
       "num_medications                0\n",
       "number_outpatient              0\n",
       "number_emergency               0\n",
       "number_inpatient               0\n",
       "diag_1                        21\n",
       "diag_2                       358\n",
       "diag_3                      1423\n",
       "number_diagnoses               0\n",
       "max_glu_serum                  0\n",
       "A1Cresult                      0\n",
       "metformin                      0\n",
       "repaglinide                    0\n",
       "nateglinide                    0\n",
       "chlorpropamide                 0\n",
       "glimepiride                    0\n",
       "acetohexamide                  0\n",
       "glipizide                      0\n",
       "glyburide                      0\n",
       "tolbutamide                    0\n",
       "pioglitazone                   0\n",
       "rosiglitazone                  0\n",
       "acarbose                       0\n",
       "miglitol                       0\n",
       "troglitazone                   0\n",
       "tolazamide                     0\n",
       "examide                        0\n",
       "citoglipton                    0\n",
       "insulin                        0\n",
       "glyburide-metformin            0\n",
       "glipizide-metformin            0\n",
       "glimepiride-pioglitazone       0\n",
       "metformin-rosiglitazone        0\n",
       "metformin-pioglitazone         0\n",
       "change                         0\n",
       "diabetesMed                    0\n",
       "readmitted                     0\n",
       "readmit_30                     0\n",
       "dtype: int64"
      ]
     },
     "execution_count": 13,
     "metadata": {},
     "output_type": "execute_result"
    }
   ],
   "source": [
    "diabetes.isnull().sum()"
   ]
  },
  {
   "cell_type": "code",
   "execution_count": 14,
   "metadata": {},
   "outputs": [
    {
     "data": {
      "text/plain": [
       "dtype('O')"
      ]
     },
     "execution_count": 14,
     "metadata": {},
     "output_type": "execute_result"
    }
   ],
   "source": [
    "diabetes[\"diag_2\"].dtype"
   ]
  },
  {
   "cell_type": "code",
   "execution_count": 15,
   "metadata": {},
   "outputs": [],
   "source": [
    "diabetes['diag_1'].fillna('Missing', inplace=True)\n",
    "diabetes['diag_2'].fillna('Missing', inplace=True)\n",
    "diabetes['diag_3'].fillna('Missing', inplace=True)"
   ]
  },
  {
   "cell_type": "markdown",
   "metadata": {},
   "source": [
    "### Exploratory Data Analysis"
   ]
  },
  {
   "cell_type": "markdown",
   "metadata": {},
   "source": [
    "Here we will be trying to understand the structure of our data, discover patterns, relationships and outliers and generate insights and hypotheses before modelling."
   ]
  },
  {
   "cell_type": "markdown",
   "metadata": {},
   "source": [
    "1. Target Variable Distribution: Check for balance of readmissions."
   ]
  },
  {
   "cell_type": "code",
   "execution_count": 16,
   "metadata": {},
   "outputs": [
    {
     "data": {
      "text/plain": [
       "Text(0.5, 1.0, 'Readmission Categories')"
      ]
     },
     "execution_count": 16,
     "metadata": {},
     "output_type": "execute_result"
    },
    {
     "data": {
      "image/png": "[encoded data removed]",
      "text/plain": [
       "<Figure size 432x288 with 1 Axes>"
      ]
     },
     "metadata": {},
     "output_type": "display_data"
    }
   ],
   "source": [
    "import seaborn as sns\n",
    "import matplotlib.pyplot as plt\n",
    "# Visualizing the distribution of readmission categories\n",
    "sns.countplot(data=diabetes, x='readmitted')\n",
    "plt.title('Readmission Categories')"
   ]
  },
  {
   "cell_type": "code",
   "execution_count": 17,
   "metadata": {},
   "outputs": [
    {
     "data": {
      "text/plain": [
       "Text(0.5, 1.0, 'Readmitted within 30 Days (0 = No, 1 = Yes)')"
      ]
     },
     "execution_count": 17,
     "metadata": {},
     "output_type": "execute_result"
    },
    {
     "data": {
      "image/png": "[encoded data removed]",
      "text/plain": [
       "<Figure size 432x288 with 1 Axes>"
      ]
     },
     "metadata": {},
     "output_type": "display_data"
    }
   ],
   "source": [
    "# Visualizing the binary target for readmission within 30 days\n",
    "sns.countplot(data=diabetes, x='readmit_30')\n",
    "plt.title('Readmitted within 30 Days (0 = No, 1 = Yes)')"
   ]
  },
  {
   "cell_type": "markdown",
   "metadata": {},
   "source": [
    "2. Univariate Analysis\n",
    "\n",
    "Let us look at key features individually."
   ]
  },
  {
   "cell_type": "code",
   "execution_count": 18,
   "metadata": {},
   "outputs": [
    {
     "data": {
      "text/plain": [
       "<AxesSubplot:title={'center':'Race Distribution'}>"
      ]
     },
     "execution_count": 18,
     "metadata": {},
     "output_type": "execute_result"
    },
    {
     "data": {
      "image/png": "[encoded data removed]",
      "text/plain": [
       "<Figure size 432x288 with 1 Axes>"
      ]
     },
     "metadata": {},
     "output_type": "display_data"
    }
   ],
   "source": [
    "# Categorical\n",
    "diabetes['race'].value_counts().plot(kind='bar', title='Race Distribution')\n"
   ]
  },
  {
   "cell_type": "code",
   "execution_count": 19,
   "metadata": {},
   "outputs": [
    {
     "data": {
      "text/plain": [
       "<AxesSubplot:title={'center':'Admission Types'}>"
      ]
     },
     "execution_count": 19,
     "metadata": {},
     "output_type": "execute_result"
    },
    {
     "data": {
      "image/png": "[encoded data removed]",
      "text/plain": [
       "<Figure size 432x288 with 1 Axes>"
      ]
     },
     "metadata": {},
     "output_type": "display_data"
    }
   ],
   "source": [
    "diabetes['admission_type_id'].value_counts().plot(kind='bar', title='Admission Types')"
   ]
  },
  {
   "cell_type": "code",
   "execution_count": 20,
   "metadata": {},
   "outputs": [
    {
     "data": {
      "text/plain": [
       "Text(0.5, 1.0, 'Number of Medications')"
      ]
     },
     "execution_count": 20,
     "metadata": {},
     "output_type": "execute_result"
    },
    {
     "data": {
      "image/png": "[encoded data removed]",
      "text/plain": [
       "<Figure size 432x288 with 1 Axes>"
      ]
     },
     "metadata": {},
     "output_type": "display_data"
    }
   ],
   "source": [
    "diabetes['num_medications'].hist(bins=30)\n",
    "plt.title('Number of Medications')"
   ]
  },
  {
   "cell_type": "code",
   "execution_count": 21,
   "metadata": {},
   "outputs": [
    {
     "data": {
      "text/plain": [
       "Text(0.5, 1.0, 'Number of Lab Procedures')"
      ]
     },
     "execution_count": 21,
     "metadata": {},
     "output_type": "execute_result"
    },
    {
     "data": {
      "image/png": "[encoded data removed]",
      "text/plain": [
       "<Figure size 432x288 with 1 Axes>"
      ]
     },
     "metadata": {},
     "output_type": "display_data"
    }
   ],
   "source": [
    "diabetes['num_lab_procedures'].hist(bins=30)\n",
    "plt.title('Number of Lab Procedures')"
   ]
  },
  {
   "cell_type": "markdown",
   "metadata": {},
   "source": [
    "3. Bivariate analysis with target: Lets find out how features relate to the target('readmit_30')"
   ]
  },
  {
   "cell_type": "code",
   "execution_count": 22,
   "metadata": {},
   "outputs": [
    {
     "data": {
      "text/plain": [
       "Text(0.5, 1.0, 'Readmission by Gender')"
      ]
     },
     "execution_count": 22,
     "metadata": {},
     "output_type": "execute_result"
    },
    {
     "data": {
      "image/png": "[encoded data removed]",
      "text/plain": [
       "<Figure size 432x288 with 1 Axes>"
      ]
     },
     "metadata": {},
     "output_type": "display_data"
    }
   ],
   "source": [
    "# Categorical features vs target\n",
    "pd.crosstab(diabetes['gender'], diabetes['readmit_30'], normalize='index').plot(kind='bar', stacked=True)\n",
    "plt.title('Readmission by Gender')"
   ]
  },
  {
   "cell_type": "code",
   "execution_count": 23,
   "metadata": {},
   "outputs": [
    {
     "data": {
      "text/plain": [
       "<AxesSubplot:xlabel='readmit_30', ylabel='num_lab_procedures'>"
      ]
     },
     "execution_count": 23,
     "metadata": {},
     "output_type": "execute_result"
    },
    {
     "data": {
      "image/png": "[encoded data removed]",
      "text/plain": [
       "<Figure size 432x288 with 1 Axes>"
      ]
     },
     "metadata": {},
     "output_type": "display_data"
    }
   ],
   "source": [
    "# Numeric features\n",
    "sns.boxplot(data=diabetes, x='readmit_30', y='num_lab_procedures')"
   ]
  },
  {
   "cell_type": "code",
   "execution_count": 24,
   "metadata": {},
   "outputs": [
    {
     "data": {
      "text/plain": [
       "<AxesSubplot:>"
      ]
     },
     "execution_count": 24,
     "metadata": {},
     "output_type": "execute_result"
    },
    {
     "data": {
      "image/png": "[encoded data removed]",
      "text/plain": [
       "<Figure size 864x576 with 2 Axes>"
      ]
     },
     "metadata": {},
     "output_type": "display_data"
    }
   ],
   "source": [
    "# Correlation matrix\n",
    "corr_matrix = diabetes.select_dtypes(include=[np.number]).corr()\n",
    "plt.figure(figsize=(12, 8))\n",
    "sns.heatmap(corr_matrix, annot=True, fmt=\".2f\", cmap='coolwarm', square=True)"
   ]
  },
  {
   "cell_type": "markdown",
   "metadata": {},
   "source": [
    "Key Observations from the Heatmap\n",
    "1. Target Variable: readmit_30\n",
    "Correlation with all features is very weak, ranging between -0.14 and +0.13.\n",
    "\n",
    "This is expected for many healthcare problems—classification targets are often influenced by complex, nonlinear, and categorical factors, not just numerical ones.\n",
    "\n",
    "2. Strongest Correlates (Even if Weak)\n",
    "🔹 number_inpatient vs readmit_30: ≈ 0.13\n",
    "More inpatient visits → Slightly more chance of readmission.\n",
    "\n",
    "Makes sense: repeat inpatient cases signal chronic or poorly managed conditions.\n",
    "\n",
    "🔹 time_in_hospital: ≈ 0.13\n",
    "Slight positive correlation: longer stays might reflect complications or unstable patients.\n",
    "\n",
    "🔹 num_medications: ≈ 0.08\n",
    "Slightly correlated: more meds might indicate complex treatment or comorbidities.\n",
    "\n",
    "3. Feature Redundancy\n",
    "Some features correlate with each other:\n",
    "\n",
    "num_medications vs num_lab_procedures: moderate positive correlation.\n",
    "\n",
    "number_inpatient, number_outpatient, number_emergency: may reflect healthcare usage pattern."
   ]
  },
  {
   "cell_type": "code",
   "execution_count": 25,
   "metadata": {},
   "outputs": [
    {
     "data": {
      "image/png": "[encoded data removed]",
      "text/plain": [
       "<Figure size 432x288 with 1 Axes>"
      ]
     },
     "metadata": {},
     "output_type": "display_data"
    },
    {
     "data": {
      "image/png": "[encoded data removed]",
      "text/plain": [
       "<Figure size 432x288 with 1 Axes>"
      ]
     },
     "metadata": {},
     "output_type": "display_data"
    },
    {
     "data": {
      "image/png": "[encoded data removed]",
      "text/plain": [
       "<Figure size 432x288 with 1 Axes>"
      ]
     },
     "metadata": {},
     "output_type": "display_data"
    }
   ],
   "source": [
    "def categorize_diag(code):\n",
    "    try:\n",
    "        code = float(code)\n",
    "        if (390 <= code <= 459) or code == 785:\n",
    "            return 'Circulatory'\n",
    "        elif (460 <= code <= 519) or code == 786:\n",
    "            return 'Respiratory'\n",
    "        elif (520 <= code <= 579) or code == 787:\n",
    "            return 'Digestive'\n",
    "        elif 250 <= code < 251:\n",
    "            return 'Diabetes'\n",
    "        elif (800 <= code <= 999):\n",
    "            return 'Injury'\n",
    "        elif (710 <= code <= 739):\n",
    "            return 'Musculoskeletal'\n",
    "        elif (580 <= code <= 629) or code == 788:\n",
    "            return 'Genitourinary'\n",
    "        elif (140 <= code <= 239):\n",
    "            return 'Neoplasms'\n",
    "        else:\n",
    "            return 'Other'\n",
    "    except:\n",
    "        return 'Unknown'\n",
    "\n",
    "for col in ['diag_1', 'diag_2', 'diag_3']:\n",
    "    diabetes[col + '_category'] = diabetes[col].apply(categorize_diag)\n",
    "# Visualizing the distribution of diagnosis categories\n",
    "for col in ['diag_1_category', 'diag_2_category', 'diag_3_category']:\n",
    "    sns.countplot(data=diabetes, x=col)\n",
    "    plt.title(f'Distribution of {col}')\n",
    "    plt.xticks(rotation=45)\n",
    "    plt.show()"
   ]
  },
  {
   "cell_type": "code",
   "execution_count": 27,
   "metadata": {},
   "outputs": [
    {
     "name": "stdout",
     "output_type": "stream",
     "text": [
      "readmit_30                  1.000000\n",
      "number_inpatient            0.165147\n",
      "number_emergency            0.060747\n",
      "discharge_disposition_id    0.050560\n",
      "number_diagnoses            0.049524\n",
      "time_in_hospital            0.044199\n",
      "num_medications             0.038432\n",
      "num_lab_procedures          0.020364\n",
      "number_outpatient           0.018893\n",
      "admission_source_id         0.005820\n",
      "admission_type_id          -0.011651\n",
      "num_procedures             -0.012227\n",
      "Name: readmit_30, dtype: float64\n"
     ]
    }
   ],
   "source": [
    "numeric_cols = diabetes.select_dtypes(include='number')\n",
    "# Calculate correlation with 'readmit_30'\n",
    "correlation = numeric_cols.corr()['readmit_30'].sort_values(ascending=False)\n",
    "print(correlation)"
   ]
  },
  {
   "cell_type": "markdown",
   "metadata": {},
   "source": [
    "### Feature Engineering\n",
    "On this section well focus on both transformation and creation of new features.\n",
    "The diagnosis codes were grouped in the section above. \n",
    "##### Flagging High-Risk Patient Patterns"
   ]
  },
  {
   "cell_type": "code",
   "execution_count": 28,
   "metadata": {},
   "outputs": [],
   "source": [
    "diabetes['high_inpatient'] = (diabetes['number_inpatient'] > 1).astype(int)\n",
    "diabetes['high_emergency'] = (diabetes['number_emergency'] > 1).astype(int)\n",
    "diabetes['high_outpatient'] = (diabetes['number_outpatient'] > 3).astype(int)\n"
   ]
  },
  {
   "cell_type": "markdown",
   "metadata": {},
   "source": [
    "#### Polypharmacy Indicator\n",
    "This is an indicator for many medications"
   ]
  },
  {
   "cell_type": "code",
   "execution_count": 29,
   "metadata": {},
   "outputs": [],
   "source": [
    "diabetes['polypharmacy'] = (diabetes['num_medications'] > 10).astype(int)\n",
    "diabetes['high_lab_procedures'] = (diabetes['num_lab_procedures'] > 40).astype(int)\n",
    "diabetes['high_procedures'] = (diabetes['num_procedures'] > 5).astype(int)"
   ]
  },
  {
   "cell_type": "code",
   "execution_count": 30,
   "metadata": {},
   "outputs": [],
   "source": [
    "diabetes['hospital_stay_group'] = pd.cut(\n",
    "    diabetes['time_in_hospital'],\n",
    "    bins=[0, 3, 7, 14],\n",
    "    labels=['Short', 'Medium', 'Long']\n",
    ")\n",
    "diabetes['readmit_30'] = diabetes['readmit_30'].astype(int)"
   ]
  },
  {
   "cell_type": "markdown",
   "metadata": {},
   "source": [
    "We can count how many of the three diagnosis codes fall into \"Diabetes\" or \"Circulatory\" showing for chronic burden."
   ]
  },
  {
   "cell_type": "code",
   "execution_count": 31,
   "metadata": {},
   "outputs": [],
   "source": [
    "def is_chronic(cat):\n",
    "    return cat in ['Diabetes', 'Circulatory']\n",
    "\n",
    "diabetes['num_chronic_diag'] = (\n",
    "    diabetes['diag_1_category'].apply(is_chronic).astype(int) +\n",
    "    diabetes['diag_2_category'].apply(is_chronic).astype(int) +\n",
    "    diabetes['diag_3_category'].apply(is_chronic).astype(int)\n",
    ")"
   ]
  },
  {
   "cell_type": "code",
   "execution_count": 32,
   "metadata": {},
   "outputs": [
    {
     "data": {
      "text/plain": [
       "<AxesSubplot:xlabel='num_chronic_diag', ylabel='count'>"
      ]
     },
     "execution_count": 32,
     "metadata": {},
     "output_type": "execute_result"
    },
    {
     "data": {
      "image/png": "[encoded data removed]",
      "text/plain": [
       "<Figure size 432x288 with 1 Axes>"
      ]
     },
     "metadata": {},
     "output_type": "display_data"
    }
   ],
   "source": [
    "# Visualizing the number of chronic diagnoses\n",
    "sns.countplot(data=diabetes, x='num_chronic_diag')  "
   ]
  },
  {
   "cell_type": "markdown",
   "metadata": {},
   "source": []
  },
  {
   "cell_type": "markdown",
   "metadata": {},
   "source": [
    "#### Hot Encoding "
   ]
  },
  {
   "cell_type": "markdown",
   "metadata": {},
   "source": [
    "\n"
   ]
  },
  {
   "cell_type": "code",
   "execution_count": 33,
   "metadata": {},
   "outputs": [
    {
     "data": {
      "text/plain": [
       "0         6\n",
       "1         1\n",
       "2         1\n",
       "3         1\n",
       "4         1\n",
       "         ..\n",
       "101761    1\n",
       "101762    1\n",
       "101763    1\n",
       "101764    2\n",
       "101765    1\n",
       "Name: admission_type_id, Length: 101766, dtype: int64"
      ]
     },
     "execution_count": 33,
     "metadata": {},
     "output_type": "execute_result"
    }
   ],
   "source": [
    "diabetes[\"admission_type_id\"]"
   ]
  },
  {
   "cell_type": "markdown",
   "metadata": {},
   "source": [
    "Using the mapping for admission types, let's map the numeric IDs to readable labels."
   ]
  },
  {
   "cell_type": "code",
   "execution_count": 34,
   "metadata": {},
   "outputs": [],
   "source": [
    "admission_type_map = {\n",
    "    1: 'Emergency',\n",
    "    2: 'Urgent',\n",
    "    3: 'Elective',\n",
    "    4: 'Newborn',\n",
    "    5: 'Not Available',\n",
    "    6: 'NULL',\n",
    "    7: 'Trauma Center',\n",
    "    8: 'Not Mapped'\n",
    "}\n",
    "\n",
    "diabetes['admission_type'] = diabetes['admission_type_id'].map(admission_type_map)\n"
   ]
  },
  {
   "cell_type": "code",
   "execution_count": 35,
   "metadata": {},
   "outputs": [],
   "source": [
    "# Encoding categorical features\n",
    "from sklearn.preprocessing import LabelEncoder\n",
    "\n",
    "# --- 1. One-Hot Encode Nominal Categorical Columns ---\n",
    "one_hot_cols = [\n",
    "    'gender',\n",
    "    'race',\n",
    "    'admission_type',           # You must map admission_type_id to labels first if not done\n",
    "    'hospital_stay_group',\n",
    "    'diag_1_category',\n",
    "    'diag_2_category',\n",
    "    'diag_3_category'\n",
    "]\n",
    "\n",
    "# Safely apply one-hot encoding using pandas\n",
    "diabetes = pd.get_dummies(diabetes, columns=one_hot_cols, drop_first=True)\n",
    "\n",
    "# --- 2. Label Encode High-Cardinality or Numeric-Coded Categorical Columns ---\n",
    "label_cols = ['medical_specialty', 'discharge_disposition_id', 'admission_source_id']\n",
    "le = LabelEncoder()\n",
    "\n",
    "for col in label_cols:\n",
    "    diabetes[col] = le.fit_transform(diabetes[col].astype(str))  # ensure strings\n",
    "\n"
   ]
  },
  {
   "cell_type": "markdown",
   "metadata": {},
   "source": [
    "### Modelling the Data"
   ]
  },
  {
   "cell_type": "markdown",
   "metadata": {},
   "source": [
    "#### Train-test split"
   ]
  },
  {
   "cell_type": "code",
   "execution_count": 36,
   "metadata": {},
   "outputs": [],
   "source": [
    "from sklearn.model_selection import train_test_split\n",
    "\n",
    "X = diabetes.drop(['readmit_30'], axis=1)\n",
    "y = diabetes['readmit_30']\n",
    "\n",
    "X_train, X_test, y_train, y_test = train_test_split(X, y, test_size=0.2, random_state=42, stratify=y)"
   ]
  },
  {
   "cell_type": "code",
   "execution_count": 37,
   "metadata": {},
   "outputs": [
    {
     "name": "stdout",
     "output_type": "stream",
     "text": [
      "0    0.888395\n",
      "1    0.111605\n",
      "Name: readmit_30, dtype: float64\n"
     ]
    }
   ],
   "source": [
    "# Check for class balance in the training set\n",
    "print(y_train.value_counts(normalize=True))"
   ]
  },
  {
   "cell_type": "code",
   "execution_count": 38,
   "metadata": {},
   "outputs": [],
   "source": [
    "from sklearn.ensemble import RandomForestClassifier\n",
    "from sklearn.metrics import classification_report, confusion_matrix\n",
    "from sklearn.preprocessing import LabelEncoder, OneHotEncoder\n",
    "from sklearn.compose import ColumnTransformer\n",
    "\n",
    "# Label Encoding for ordinal categorical data\n",
    "def fix_with_label_encoding(X_train, X_test, y_train, y_test):\n",
    "    \"\"\"Use when categories have a natural order (like age ranges)\"\"\"\n",
    "    \n",
    "    # Create copies to avoid modifying original data\n",
    "    X_train_encoded = X_train.copy()\n",
    "    X_test_encoded = X_test.copy()\n",
    "    \n",
    "    # Apply Label Encoding to string columns\n",
    "    label_encoders = {}\n",
    "    \n",
    "    for column in X_train_encoded.columns:\n",
    "        if X_train_encoded[column].dtype == 'object':\n",
    "            # Initialize LabelEncoder and fit on training data\n",
    "            le = LabelEncoder()\n",
    "            X_train_encoded[column] = le.fit_transform(X_train_encoded[column].astype(str))\n",
    "            X_test_encoded[column] = le.transform(X_test_encoded[column].astype(str))\n",
    "            label_encoders[column] = le\n",
    "    \n",
    "    # Train model\n",
    "    rf = RandomForestClassifier(random_state=42)\n",
    "    rf.fit(X_train_encoded, y_train)\n",
    "    \n",
    "    # Predict and evaluate\n",
    "    y_pred = rf.predict(X_test_encoded)\n",
    "    print(\"=== Label Encoding Results ===\")\n",
    "    print(classification_report(y_test, y_pred))\n",
    "    print(confusion_matrix(y_test, y_pred))\n",
    "    \n",
    "    return rf, label_encoders"
   ]
  },
  {
   "cell_type": "code",
   "execution_count": 39,
   "metadata": {},
   "outputs": [],
   "source": [
    "from sklearn.metrics import (\n",
    "    classification_report, confusion_matrix, accuracy_score,\n",
    "    precision_score, recall_score, f1_score, roc_auc_score,\n",
    "    roc_curve, precision_recall_curve\n",
    ")\n",
    "from sklearn.model_selection import cross_val_score, GridSearchCV\n",
    "import joblib\n",
    "import warnings\n",
    "warnings.filterwarnings('ignore')"
   ]
  },
  {
   "cell_type": "markdown",
   "metadata": {},
   "source": [
    "### Comprehensive Model Evaluation"
   ]
  },
  {
   "cell_type": "code",
   "execution_count": 40,
   "metadata": {},
   "outputs": [],
   "source": [
    "def comprehensive_evaluation(model, X_test, y_test, y_pred, target_names=None):\n",
    "    \"\"\"Complete evaluation of your trained model\"\"\"\n",
    "    \n",
    "    print(\"🎯 MODEL PERFORMANCE EVALUATION\")\n",
    "    print(\"=\" * 50)\n",
    "    \n",
    "    # Basic metrics\n",
    "    accuracy = accuracy_score(y_test, y_pred)\n",
    "    print(f\"Accuracy: {accuracy:.4f}\")\n",
    "    \n",
    "    # Detailed classification report\n",
    "    print(\"\\n📊 Classification Report:\")\n",
    "    print(classification_report(y_test, y_pred, target_names=target_names))\n",
    "    \n",
    "    # Confusion Matrix\n",
    "    cm = confusion_matrix(y_test, y_pred)\n",
    "    plt.figure(figsize=(8, 6))\n",
    "    sns.heatmap(cm, annot=True, fmt='d', cmap='Blues')\n",
    "    plt.title('Confusion Matrix')\n",
    "    plt.ylabel('True Label')\n",
    "    plt.xlabel('Predicted Label')\n",
    "    plt.show()\n",
    "    \n",
    "    # For binary classification - ROC curve and AUC\n",
    "    if len(np.unique(y_test)) == 2:\n",
    "        y_pred_proba = model.predict_proba(X_test)[:, 1]\n",
    "        auc = roc_auc_score(y_test, y_pred_proba)\n",
    "        print(f\"\\nAUC Score: {auc:.4f}\")\n",
    "        \n",
    "        # Plot ROC curve\n",
    "        fpr, tpr, _ = roc_curve(y_test, y_pred_proba)\n",
    "        plt.figure(figsize=(8, 6))\n",
    "        plt.plot(fpr, tpr, label=f'ROC Curve (AUC = {auc:.2f})')\n",
    "        plt.plot([0, 1], [0, 1], 'k--', label='Random')\n",
    "        plt.xlabel('False Positive Rate')\n",
    "        plt.ylabel('True Positive Rate')\n",
    "        plt.title('ROC Curve')\n",
    "        plt.legend()\n",
    "        plt.show()\n"
   ]
  },
  {
   "cell_type": "code",
   "execution_count": 41,
   "metadata": {},
   "outputs": [],
   "source": [
    "def analyze_feature_importance(model, feature_names, top_n=15):\n",
    "    \"\"\"Understand what features drive your model's predictions\"\"\"\n",
    "    \n",
    "    print(\"\\n🔍 FEATURE IMPORTANCE ANALYSIS\")\n",
    "    print(\"=\" * 50)\n",
    "    \n",
    "    # Get feature importances\n",
    "    importances = model.feature_importances_\n",
    "    feature_importance_df = pd.DataFrame({\n",
    "        'feature': feature_names,\n",
    "        'importance': importances\n",
    "    }).sort_values('importance', ascending=False)\n",
    "    \n",
    "    print(f\"Top {top_n} Most Important Features:\")\n",
    "    print(feature_importance_df.head(top_n))\n",
    "    \n",
    "    # Plot feature importance\n",
    "    plt.figure(figsize=(10, 8))\n",
    "    top_features = feature_importance_df.head(top_n)\n",
    "    plt.barh(range(len(top_features)), top_features['importance'])\n",
    "    plt.yticks(range(len(top_features)), top_features['feature'])\n",
    "    plt.xlabel('Feature Importance')\n",
    "    plt.title(f'Top {top_n} Feature Importances')\n",
    "    plt.gca().invert_yaxis()\n",
    "    plt.tight_layout()\n",
    "    plt.show()\n",
    "    \n",
    "    return feature_importance_df\n"
   ]
  },
  {
   "cell_type": "code",
   "execution_count": 42,
   "metadata": {},
   "outputs": [],
   "source": [
    "def tune_hyperparameters(X_train, y_train, cv_folds=5):\n",
    "    \"\"\"Optimize your model's hyperparameters\"\"\"\n",
    "    \n",
    "    print(\"\\n⚙️ HYPERPARAMETER TUNING\")\n",
    "    print(\"=\" * 50)\n",
    "    \n",
    "    # Define parameter grid\n",
    "    param_grid = {\n",
    "        'n_estimators': [100, 200, 300],\n",
    "        'max_depth': [10, 20, None],\n",
    "        'min_samples_split': [2, 5, 10],\n",
    "        'min_samples_leaf': [1, 2, 4],\n",
    "        'max_features': ['sqrt', 'log2', None]\n",
    "    }\n",
    "    \n",
    "    # Grid search with cross-validation\n",
    "    rf = RandomForestClassifier(random_state=42)\n",
    "    grid_search = GridSearchCV(\n",
    "        rf, param_grid, cv=cv_folds, \n",
    "        scoring='accuracy', n_jobs=-1, verbose=1\n",
    "    )\n",
    "    \n",
    "    print(\"Running Grid Search... This may take a while...\")\n",
    "    grid_search.fit(X_train, y_train)\n",
    "    \n",
    "    print(f\"Best Parameters: {grid_search.best_params_}\")\n",
    "    print(f\"Best Cross-validation Score: {grid_search.best_score_:.4f}\")\n",
    "    \n",
    "    return grid_search.best_estimator_"
   ]
  },
  {
   "cell_type": "code",
   "execution_count": 43,
   "metadata": {},
   "outputs": [],
   "source": [
    "def perform_cross_validation(model, X_train, y_train, cv_folds=5):\n",
    "    \"\"\"Validate model stability across different data splits\"\"\"\n",
    "    \n",
    "    print(\"\\n🔄 CROSS-VALIDATION\")\n",
    "    print(\"=\" * 50)\n",
    "    \n",
    "    # Perform cross-validation\n",
    "    cv_scores = cross_val_score(model, X_train, y_train, cv=cv_folds, scoring='accuracy')\n",
    "    \n",
    "    print(f\"Cross-validation Scores: {cv_scores}\")\n",
    "    print(f\"Average CV Score: {cv_scores.mean():.4f} (+/- {cv_scores.std() * 2:.4f})\")\n",
    "    \n",
    "    # Plot CV scores\n",
    "    plt.figure(figsize=(8, 6))\n",
    "    plt.bar(range(1, cv_folds + 1), cv_scores)\n",
    "    plt.axhline(y=cv_scores.mean(), color='r', linestyle='--', label=f'Mean: {cv_scores.mean():.4f}')\n",
    "    plt.xlabel('Fold')\n",
    "    plt.ylabel('Accuracy')\n",
    "    plt.title('Cross-Validation Scores')\n",
    "    plt.legend()\n",
    "    plt.show()\n",
    "    \n",
    "    return cv_scores\n"
   ]
  },
  {
   "cell_type": "code",
   "execution_count": 53,
   "metadata": {},
   "outputs": [
    {
     "ename": "NameError",
     "evalue": "name 'cv_scores' is not defined",
     "output_type": "error",
     "traceback": [
      "\u001b[1;31m---------------------------------------------------------------------------\u001b[0m",
      "\u001b[1;31mNameError\u001b[0m                                 Traceback (most recent call last)",
      "\u001b[1;32m<ipython-input-53-fd16348540b2>\u001b[0m in \u001b[0;36m<module>\u001b[1;34m\u001b[0m\n\u001b[1;32m----> 1\u001b[1;33m \u001b[0mcv_scores\u001b[0m\u001b[1;33m\u001b[0m\u001b[1;33m\u001b[0m\u001b[0m\n\u001b[0m",
      "\u001b[1;31mNameError\u001b[0m: name 'cv_scores' is not defined"
     ]
    }
   ],
   "source": []
  },
  {
   "cell_type": "code",
   "execution_count": 44,
   "metadata": {},
   "outputs": [],
   "source": [
    "def prepare_for_deployment(model, feature_names, model_name=\"random_forest_model\"):\n",
    "    \"\"\"Save model and create deployment artifacts\"\"\"\n",
    "    \n",
    "    print(\"\\n🚀 DEPLOYMENT PREPARATION\")\n",
    "    print(\"=\" * 50)\n",
    "    \n",
    "    # Save the trained model\n",
    "    model_filename = f\"{model_name}.joblib\"\n",
    "    joblib.dump(model, model_filename)\n",
    "    print(f\"Model saved as: {model_filename}\")\n",
    "    \n",
    "    # Save feature names\n",
    "    feature_filename = f\"{model_name}_features.joblib\"\n",
    "    joblib.dump(feature_names, feature_filename)\n",
    "    print(f\"Feature names saved as: {feature_filename}\")\n",
    "    \n",
    "    # Create prediction function\n",
    "    def make_prediction(new_data):\n",
    "        \"\"\"Function to make predictions on new data\"\"\"\n",
    "        # Load model and features\n",
    "        loaded_model = joblib.load(model_filename)\n",
    "        loaded_features = joblib.load(feature_filename)\n",
    "        \n",
    "        # Ensure new_data has the same features in the same order\n",
    "        if isinstance(new_data, pd.DataFrame):\n",
    "            new_data = new_data[loaded_features]\n",
    "        \n",
    "        # Make prediction\n",
    "        prediction = loaded_model.predict(new_data)\n",
    "        prediction_proba = loaded_model.predict_proba(new_data)\n",
    "        \n",
    "        return prediction, prediction_proba\n",
    "    \n",
    "    print(\"\\nDeployment checklist:\")\n",
    "    print(\"✅ Model saved\")\n",
    "    print(\"✅ Feature names saved\")\n",
    "    print(\"✅ Prediction function created\")\n",
    "    print(\"✅ Ready for deployment!\")\n",
    "    \n",
    "    return make_prediction\n"
   ]
  },
  {
   "cell_type": "code",
   "execution_count": 45,
   "metadata": {},
   "outputs": [],
   "source": [
    "def setup_monitoring(model, X_test, y_test):\n",
    "    \"\"\"Set up basic monitoring for model performance\"\"\"\n",
    "    \n",
    "    print(\"\\n📈 PRODUCTION MONITORING SETUP\")\n",
    "    print(\"=\" * 50)\n",
    "    \n",
    "    # Baseline metrics for monitoring\n",
    "    baseline_metrics = {\n",
    "        'accuracy': accuracy_score(y_test, model.predict(X_test)),\n",
    "        'feature_count': len(model.feature_importances_),\n",
    "        'model_type': type(model).__name__\n",
    "    }\n",
    "    \n",
    "    print(\"Baseline metrics for monitoring:\")\n",
    "    for metric, value in baseline_metrics.items():\n",
    "        print(f\"  {metric}: {value}\")\n",
    "    \n",
    "    # Save baseline metrics\n",
    "    joblib.dump(baseline_metrics, \"baseline_metrics.joblib\")\n",
    "    print(\"\\n✅ Baseline metrics saved for monitoring\")\n",
    "    \n",
    "    return baseline_metrics"
   ]
  },
  {
   "cell_type": "code",
   "execution_count": 46,
   "metadata": {},
   "outputs": [],
   "source": [
    "def complete_post_training_workflow(model, X_train, X_test, y_train, y_test, \n",
    "                                  feature_names, target_names=None):\n",
    "    \"\"\"Run the complete post-training workflow\"\"\"\n",
    "    \n",
    "    print(\"🔬 COMPLETE POST-TRAINING ANALYSIS\")\n",
    "    print(\"=\" * 60)\n",
    "    \n",
    "    # Make predictions\n",
    "    y_pred = model.predict(X_test)\n",
    "    \n",
    "    # Step 1: Comprehensive Evaluation\n",
    "    comprehensive_evaluation(model, X_test, y_test, y_pred, target_names)\n",
    "    \n",
    "    # Step 2: Feature Importance Analysis\n",
    "    feature_importance_df = analyze_feature_importance(model, feature_names)\n",
    "    \n",
    "    # Step 3: Cross-validation\n",
    "    cv_scores = perform_cross_validation(model, X_train, y_train)\n",
    "    \n",
    "    # Step 4: Hyperparameter Tuning (optional - can be time-consuming)\n",
    "    print(\"\\n❓ Would you like to tune hyperparameters? (This can take time)\")\n",
    "    # best_model = tune_hyperparameters(X_train, y_train)\n",
    "    \n",
    "    # Step 5: Deployment Preparation\n",
    "    prediction_function = prepare_for_deployment(model, feature_names)\n",
    "    \n",
    "    # Step 6: Monitoring Setup\n",
    "    baseline_metrics = setup_monitoring(model, X_test, y_test)\n",
    "    \n",
    "    print(\"\\n🎉 ANALYSIS COMPLETE!\")\n",
    "    print(\"Your model is evaluated, interpreted, and ready for deployment!\")\n",
    "    \n",
    "    return {\n",
    "        'model': model,\n",
    "        'feature_importance': feature_importance_df,\n",
    "        'cv_scores': cv_scores,\n",
    "        'prediction_function': prediction_function,\n",
    "        'baseline_metrics': baseline_metrics\n",
    "    }"
   ]
  },
  {
   "cell_type": "code",
   "execution_count": null,
   "metadata": {},
   "outputs": [],
   "source": []
  }
 ],
 "metadata": {
  "kernelspec": {
   "display_name": "Python (learn-env)",
   "language": "python",
   "name": "learn-env"
  },
  "language_info": {
   "codemirror_mode": {
    "name": "ipython",
    "version": 3
   },
   "file_extension": ".py",
   "mimetype": "text/x-python",
   "name": "python",
   "nbconvert_exporter": "python",
   "pygments_lexer": "ipython3",
   "version": "3.8.5"
  }
 },
 "nbformat": 4,
 "nbformat_minor": 5
}
